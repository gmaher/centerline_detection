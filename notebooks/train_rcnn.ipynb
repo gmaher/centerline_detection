{
 "cells": [
  {
   "cell_type": "code",
   "execution_count": 1,
   "metadata": {},
   "outputs": [],
   "source": [
    "import os\n",
    "import sys\n",
    "sys.path.append(os.path.abspath('..'))\n",
    "\n",
    "import warnings\n",
    "warnings.filterwarnings(\"ignore\")\n",
    "\n",
    "import tensorflow as tf\n",
    "\n",
    "import numpy as np\n",
    "import matplotlib.pyplot as plt\n",
    "import modules.rcnn.net as net\n",
    "import modules.rcnn.shapes as shapes\n",
    "import modules.rcnn.box as box\n",
    "\n",
    "import matplotlib.patches as patches"
   ]
  },
  {
   "cell_type": "code",
   "execution_count": 2,
   "metadata": {},
   "outputs": [
    {
     "name": "stdout",
     "output_type": "stream",
     "text": [
      "[[0.72576162 0.875      0.115      0.115     ]\n",
      " [0.54302035 0.625      0.16452029 0.16452029]\n",
      " [0.32199579 0.375      0.13649981 0.13649981]\n",
      " [0.63842973 0.125      0.15351054 0.1551069 ]]\n",
      "[1. 1. 1. 0.]\n"
     ]
    }
   ],
   "source": [
    "H = 40\n",
    "W = 40\n",
    "h = H-1\n",
    "w = W-1\n",
    "\n",
    "n_min = 2\n",
    "n_max = 5\n",
    "\n",
    "x, shap = shapes.get_random_shapes(n_min,n_max,H,W)\n",
    "\n",
    "gt_box, gt_label = shapes.shapes_to_gt(shap)\n",
    "print(gt_box)\n",
    "print(gt_label)"
   ]
  },
  {
   "cell_type": "code",
   "execution_count": 3,
   "metadata": {},
   "outputs": [],
   "source": [
    "anchor_boxes = np.array([\n",
    "    [0.3,0.3],\n",
    "    [0.2,0.2],\n",
    "    [0.1,0.1],\n",
    "    [0.05,0.05],\n",
    "])\n",
    "\n",
    "K = anchor_boxes.shape[0]\n",
    "\n",
    "anchors = np.zeros((H,W,K,4))\n",
    "\n",
    "for i in range(H):\n",
    "    for j in range(W):\n",
    "        anchors[i,j,:,0] = j/(W-1)\n",
    "        anchors[i,j,:,1] = i/(H-1)\n",
    "        anchors[i,j,:,2] = anchor_boxes[:,0]\n",
    "        anchors[i,j,:,3] = anchor_boxes[:,1]\n",
    "        \n",
    "anchors_1d = anchors.reshape((-1,4))"
   ]
  },
  {
   "cell_type": "code",
   "execution_count": 4,
   "metadata": {},
   "outputs": [
    {
     "data": {
      "image/png": "[encoded data removed]",
      "text/plain": [
       "<Figure size 432x288 with 2 Axes>"
      ]
     },
     "metadata": {},
     "output_type": "display_data"
    }
   ],
   "source": [
    "plt.figure()\n",
    "plt.imshow(x)\n",
    "plt.colorbar()\n",
    "plt.show()"
   ]
  },
  {
   "cell_type": "code",
   "execution_count": 5,
   "metadata": {},
   "outputs": [],
   "source": [
    "Ntrain     = 10000\n",
    "lr         = 0.0001\n",
    "print_step = 1000"
   ]
  },
  {
   "cell_type": "code",
   "execution_count": 6,
   "metadata": {},
   "outputs": [
    {
     "name": "stderr",
     "output_type": "stream",
     "text": [
      "WARNING: Logging before flag parsing goes to stderr.\n",
      "W0828 09:09:44.358222 140221268633344 lazy_loader.py:50] \n",
      "The TensorFlow contrib module will not be included in TensorFlow 2.0.\n",
      "For more information, please see:\n",
      "  * https://github.com/tensorflow/community/blob/master/rfcs/20180907-contrib-sunset.md\n",
      "  * https://github.com/tensorflow/addons\n",
      "  * https://github.com/tensorflow/io (for I/O related ops)\n",
      "If you depend on functionality not listed there, please file an issue.\n",
      "\n",
      "W0828 09:09:44.360302 140221268633344 deprecation_wrapper.py:119] From /home/marsdenlab/projects/centerline_detection/modules/rcnn/net.py:14: The name tf.variable_scope is deprecated. Please use tf.compat.v1.variable_scope instead.\n",
      "\n",
      "W0828 09:09:44.361376 140221268633344 deprecation_wrapper.py:119] From /home/marsdenlab/projects/centerline_detection/modules/layers_new.py:35: The name tf.random_normal is deprecated. Please use tf.random.normal instead.\n",
      "\n",
      "W0828 09:09:44.488350 140221268633344 deprecation.py:323] From /home/marsdenlab/anaconda3/lib/python3.6/site-packages/tensorflow/python/ops/array_ops.py:1354: add_dispatch_support.<locals>.wrapper (from tensorflow.python.ops.array_ops) is deprecated and will be removed in a future version.\n",
      "Instructions for updating:\n",
      "Use tf.where in 2.0, which has the same broadcast rule as np.where\n",
      "W0828 09:09:44.492279 140221268633344 deprecation.py:323] From /home/marsdenlab/projects/centerline_detection/modules/rcnn/net.py:110: to_int32 (from tensorflow.python.ops.math_ops) is deprecated and will be removed in a future version.\n",
      "Instructions for updating:\n",
      "Use `tf.cast` instead.\n",
      "W0828 09:09:44.497859 140221268633344 deprecation.py:506] From /home/marsdenlab/projects/centerline_detection/modules/rcnn/net.py:115: calling crop_and_resize_v1 (from tensorflow.python.ops.image_ops_impl) with box_ind is deprecated and will be removed in a future version.\n",
      "Instructions for updating:\n",
      "box_ind is deprecated, use box_indices instead\n"
     ]
    },
    {
     "name": "stdout",
     "output_type": "stream",
     "text": [
      "Tensor(\"Sum_1:0\", shape=(), dtype=float32) Tensor(\"mul_7:0\", shape=(), dtype=float32) Tensor(\"add_2:0\", shape=(), dtype=float32)\n"
     ]
    }
   ],
   "source": [
    "x_tf       = tf.placeholder(shape=[1,H,W,1], dtype=tf.float32)\n",
    "y_box_tf   = tf.placeholder(shape=[H*W*K,4], dtype=tf.float32)\n",
    "y_label_tf = tf.placeholder(shape=[H*W*K], dtype=tf.float32)\n",
    "y_weights_tf = tf.placeholder(shape=[H*W*K], dtype=tf.float32)\n",
    "\n",
    "backbone = net.Backbone(input_channels=1, output_size=64)\n",
    "rpn      = net.RPN(backbone, num_boxes=K, backbone_channels=64, \n",
    "                   window_size=20, hidden_size=256)\n",
    "\n",
    "rcnn     = net.RCNN(backbone, rpn, anchors, backbone_channels=1, \n",
    "                   window_size=10, hidden_size=256, num_classes=3, obj_threshold=0.8, scope='rcnn')\n",
    "\n",
    "\n",
    "crop_conv = rcnn(x_tf)\n",
    "\n",
    "rpn_obj_logits, rpn_obj, rpn_box = rpn(x_tf)\n",
    "\n",
    "list_box        = tf.reshape(rpn_box, shape=[-1,4])\n",
    "list_obj_logits = tf.reshape(rpn_obj_logits, shape=[-1])\n",
    "list_obj        = tf.reshape(rpn_obj, shape=[-1])\n",
    "\n",
    "loss_class = tf.reduce_sum(y_weights_tf*tf.nn.sigmoid_cross_entropy_with_logits(labels=y_label_tf, \n",
    "                                         logits=list_obj_logits))\n",
    "\n",
    "loss_box   = 10*tf.reduce_sum(y_weights_tf*y_label_tf*(tf.reduce_sum(tf.square(list_box - y_box_tf), axis=1)))\n",
    "\n",
    "lab_sum = tf.reduce_sum(y_label_tf)\n",
    "\n",
    "loss = loss_class+loss_box\n",
    "\n",
    "print(loss_class, loss_box, loss)"
   ]
  },
  {
   "cell_type": "code",
   "execution_count": 7,
   "metadata": {},
   "outputs": [],
   "source": [
    "opt = tf.train.AdamOptimizer(lr)\n",
    "train_op = opt.minimize(loss)"
   ]
  },
  {
   "cell_type": "code",
   "execution_count": 8,
   "metadata": {},
   "outputs": [],
   "source": [
    "sess = tf.Session()\n",
    "sess.run(tf.global_variables_initializer())"
   ]
  },
  {
   "cell_type": "code",
   "execution_count": 9,
   "metadata": {},
   "outputs": [
    {
     "name": "stdout",
     "output_type": "stream",
     "text": [
      "iteration 0: loss=4345.227 loss_class=4342.032 loss_box=3.194, lab_sum=8.0\n"
     ]
    },
    {
     "name": "stderr",
     "output_type": "stream",
     "text": [
      "E0828 09:11:07.243666 140221268633344 ultratb.py:147] Internal Python error in the inspect module.\n",
      "Below is the traceback from this internal error.\n",
      "\n"
     ]
    },
    {
     "name": "stdout",
     "output_type": "stream",
     "text": [
      "Traceback (most recent call last):\n",
      "  File \"/home/marsdenlab/anaconda3/lib/python3.6/site-packages/IPython/core/interactiveshell.py\", line 2963, in run_code\n",
      "    exec(code_obj, self.user_global_ns, self.user_ns)\n",
      "  File \"<ipython-input-9-b88f0b3854ba>\", line 11, in <module>\n",
      "    sess.run(train_op, {x_tf:x, y_box_tf:gt_t, y_label_tf:gt_labels, y_weights_tf:gt_weights})\n",
      "  File \"/home/marsdenlab/anaconda3/lib/python3.6/site-packages/tensorflow/python/client/session.py\", line 950, in run\n",
      "    run_metadata_ptr)\n",
      "  File \"/home/marsdenlab/anaconda3/lib/python3.6/site-packages/tensorflow/python/client/session.py\", line 1173, in _run\n",
      "    feed_dict_tensor, options, run_metadata)\n",
      "  File \"/home/marsdenlab/anaconda3/lib/python3.6/site-packages/tensorflow/python/client/session.py\", line 1350, in _do_run\n",
      "    run_metadata)\n",
      "  File \"/home/marsdenlab/anaconda3/lib/python3.6/site-packages/tensorflow/python/client/session.py\", line 1356, in _do_call\n",
      "    return fn(*args)\n",
      "  File \"/home/marsdenlab/anaconda3/lib/python3.6/site-packages/tensorflow/python/client/session.py\", line 1341, in _run_fn\n",
      "    options, feed_dict, fetch_list, target_list, run_metadata)\n",
      "  File \"/home/marsdenlab/anaconda3/lib/python3.6/site-packages/tensorflow/python/client/session.py\", line 1429, in _call_tf_sessionrun\n",
      "    run_metadata)\n",
      "KeyboardInterrupt\n",
      "\n",
      "During handling of the above exception, another exception occurred:\n",
      "\n",
      "Traceback (most recent call last):\n",
      "  File \"/home/marsdenlab/anaconda3/lib/python3.6/site-packages/IPython/core/interactiveshell.py\", line 1863, in showtraceback\n",
      "    stb = value._render_traceback_()\n",
      "AttributeError: 'KeyboardInterrupt' object has no attribute '_render_traceback_'\n",
      "\n",
      "During handling of the above exception, another exception occurred:\n",
      "\n",
      "Traceback (most recent call last):\n",
      "  File \"/home/marsdenlab/anaconda3/lib/python3.6/site-packages/IPython/core/ultratb.py\", line 1095, in get_records\n",
      "    return _fixed_getinnerframes(etb, number_of_lines_of_context, tb_offset)\n",
      "  File \"/home/marsdenlab/anaconda3/lib/python3.6/site-packages/IPython/core/ultratb.py\", line 311, in wrapped\n",
      "    return f(*args, **kwargs)\n",
      "  File \"/home/marsdenlab/anaconda3/lib/python3.6/site-packages/IPython/core/ultratb.py\", line 345, in _fixed_getinnerframes\n",
      "    records = fix_frame_records_filenames(inspect.getinnerframes(etb, context))\n",
      "  File \"/home/marsdenlab/anaconda3/lib/python3.6/inspect.py\", line 1483, in getinnerframes\n",
      "    frameinfo = (tb.tb_frame,) + getframeinfo(tb, context)\n",
      "  File \"/home/marsdenlab/anaconda3/lib/python3.6/inspect.py\", line 1441, in getframeinfo\n",
      "    filename = getsourcefile(frame) or getfile(frame)\n",
      "  File \"/home/marsdenlab/anaconda3/lib/python3.6/inspect.py\", line 696, in getsourcefile\n",
      "    if getattr(getmodule(object, filename), '__loader__', None) is not None:\n",
      "  File \"/home/marsdenlab/anaconda3/lib/python3.6/inspect.py\", line 742, in getmodule\n",
      "    os.path.realpath(f)] = module.__name__\n",
      "  File \"/home/marsdenlab/anaconda3/lib/python3.6/posixpath.py\", line 388, in realpath\n",
      "    path, ok = _joinrealpath(filename[:0], filename, {})\n",
      "  File \"/home/marsdenlab/anaconda3/lib/python3.6/posixpath.py\", line 421, in _joinrealpath\n",
      "    newpath = join(path, name)\n",
      "  File \"/home/marsdenlab/anaconda3/lib/python3.6/posixpath.py\", line 87, in join\n",
      "    if b.startswith(sep):\n",
      "KeyboardInterrupt\n"
     ]
    },
    {
     "ename": "KeyboardInterrupt",
     "evalue": "",
     "output_type": "error",
     "traceback": [
      "\u001b[0;31m---------------------------------------------------------------------------\u001b[0m"
     ]
    }
   ],
   "source": [
    "for i in range(Ntrain):\n",
    "    \n",
    "    x, shap = shapes.get_random_shapes(n_min,n_max,H,W)\n",
    "    \n",
    "    gt_box, gt_label = shapes.shapes_to_gt(shap)\n",
    "    \n",
    "    gt_t, gt_matched, gt_labels, gt_weights =\\\n",
    "    box.create_box_gt(anchors_1d, gt_box)\n",
    "    \n",
    "    x = x.reshape((1,H,W,1))\n",
    "    \n",
    "    sess.run(train_op, {x_tf:x, y_box_tf:gt_t, y_label_tf:gt_labels, y_weights_tf:gt_weights})\n",
    "    \n",
    "    if i%print_step == 0:\n",
    "        l,lc,lb,ls = sess.run([loss, loss_class, loss_box, lab_sum], {x_tf:x, y_box_tf:gt_t, y_label_tf:gt_labels, y_weights_tf:gt_weights})\n",
    "        \n",
    "        print(\"iteration {}: loss={:.3f} loss_class={:.3f} loss_box={:.3f}, lab_sum={:.1f}\".format(i,l, lc, lb, ls))"
   ]
  },
  {
   "cell_type": "code",
   "execution_count": null,
   "metadata": {},
   "outputs": [],
   "source": [
    "x, shap = shapes.get_random_shapes(n_min,n_max,H,W)\n",
    "\n",
    "gt_box, gt_label = shapes.shapes_to_gt(shap)\n",
    "\n",
    "gt_t, gt_matched, gt_labels, gt_weights =\\\n",
    "box.create_box_gt(anchors_1d, gt_box)\n",
    "\n",
    "x = x.reshape((1,H,W,1))\n",
    "\n",
    "out_box, l_box, out_obj = sess.run([rpn_box, list_box, rpn_obj], {x_tf:x})"
   ]
  },
  {
   "cell_type": "code",
   "execution_count": null,
   "metadata": {
    "scrolled": false
   },
   "outputs": [],
   "source": [
    "lab = gt_labels.reshape((H,W,K))\n",
    "weights = gt_weights.reshape((H,W,K))\n",
    "\n",
    "plt.figure()\n",
    "plt.imshow(x[0,:,:,0])\n",
    "plt.show()\n",
    "\n",
    "for i in range(K):\n",
    "    print(i)\n",
    "    plt.figure()\n",
    "    plt.imshow(out_obj[0,:,:,i], cmap='gray')\n",
    "    plt.colorbar()\n",
    "    plt.show()\n",
    "    \n",
    "    plt.figure()\n",
    "    plt.imshow(lab[:,:,i], cmap='gray')\n",
    "    plt.colorbar()\n",
    "    plt.show()\n",
    "    \n",
    "print(\"weights\")\n",
    "for i in range(K):\n",
    "    print(i)\n",
    "    plt.figure()\n",
    "    plt.imshow(weights[:,:,i], cmap='gray')\n",
    "    plt.colorbar()\n",
    "    plt.show()"
   ]
  },
  {
   "cell_type": "code",
   "execution_count": null,
   "metadata": {},
   "outputs": [],
   "source": [
    "predicted_boxes, predicted_obj = sess.run([list_box, list_obj],{x_tf:x})"
   ]
  },
  {
   "cell_type": "code",
   "execution_count": null,
   "metadata": {},
   "outputs": [],
   "source": [
    "anch_p = anchors.reshape((-1,4))[predicted_obj>0.9]\n",
    "print(anch_p)"
   ]
  },
  {
   "cell_type": "code",
   "execution_count": null,
   "metadata": {},
   "outputs": [],
   "source": [
    "bp = predicted_boxes[predicted_obj>0.9]\n",
    "print(bp)"
   ]
  },
  {
   "cell_type": "code",
   "execution_count": null,
   "metadata": {},
   "outputs": [],
   "source": [
    "gt_p = gt_t[predicted_obj>0.9]\n",
    "print(gt_p)"
   ]
  },
  {
   "cell_type": "code",
   "execution_count": null,
   "metadata": {},
   "outputs": [],
   "source": [
    "bp_n = box.inv_bbox_transform(anch_p, bp)\n",
    "gt_n = box.inv_bbox_transform(anch_p, gt_p)\n",
    "print(bp_n*H)\n",
    "print(gt_n*H)\n",
    "print(gt_box*H)"
   ]
  },
  {
   "cell_type": "code",
   "execution_count": null,
   "metadata": {},
   "outputs": [],
   "source": [
    "# Create figure and axes\n",
    "fig,ax = plt.subplots(1, figsize=(8,8))\n",
    "\n",
    "# Display the image\n",
    "ax.imshow(x[0,:,:,0])\n",
    "\n",
    "# Create a Rectangle patch\n",
    "for b in bp_n:\n",
    "    rect = patches.Rectangle((int(b[0]*w),int(b[1]*h)),int(b[2]*H),int(b[3]*H),linewidth=1,\n",
    "                             edgecolor='r',facecolor='none')\n",
    "\n",
    "    # Add the patch to the Axes\n",
    "    ax.add_patch(rect)\n",
    "\n",
    "    # Create a Rectangle patch\n",
    "for b in gt_box:\n",
    "    rect = patches.Rectangle((int(b[0]*w)-0.5,int(b[1]*h)-0.5),int(b[2]*H),int(b[3]*H),linewidth=1,\n",
    "                             edgecolor='g',facecolor='none')\n",
    "\n",
    "    # Add the patch to the Axes\n",
    "    ax.add_patch(rect)\n",
    "    \n",
    "plt.show()"
   ]
  },
  {
   "cell_type": "code",
   "execution_count": null,
   "metadata": {},
   "outputs": [],
   "source": [
    "cropped = sess.run(crop_conv,{x_tf:x})"
   ]
  },
  {
   "cell_type": "code",
   "execution_count": null,
   "metadata": {},
   "outputs": [],
   "source": [
    "print(cropped.shape)"
   ]
  },
  {
   "cell_type": "code",
   "execution_count": null,
   "metadata": {},
   "outputs": [],
   "source": [
    "for n in range(cropped.shape[0]):\n",
    "    plt.figure()\n",
    "    plt.imshow(cropped[n,:,:,0])\n",
    "    plt.show()"
   ]
  },
  {
   "cell_type": "code",
   "execution_count": null,
   "metadata": {},
   "outputs": [],
   "source": []
  },
  {
   "cell_type": "code",
   "execution_count": null,
   "metadata": {},
   "outputs": [],
   "source": []
  }
 ],
 "metadata": {
  "kernelspec": {
   "display_name": "Python 3",
   "language": "python",
   "name": "python3"
  },
  "language_info": {
   "codemirror_mode": {
    "name": "ipython",
    "version": 3
   },
   "file_extension": ".py",
   "mimetype": "text/x-python",
   "name": "python",
   "nbconvert_exporter": "python",
   "pygments_lexer": "ipython3",
   "version": "3.6.5"
  }
 },
 "nbformat": 4,
 "nbformat_minor": 2
}
