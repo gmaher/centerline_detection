{
 "cells": [
  {
   "cell_type": "code",
   "execution_count": 1,
   "metadata": {},
   "outputs": [],
   "source": [
    "import os\n",
    "import sys\n",
    "sys.path.append(os.path.abspath('..'))\n",
    "\n",
    "import warnings\n",
    "warnings.filterwarnings(\"ignore\")\n",
    "\n",
    "import tensorflow as tf\n",
    "\n",
    "import numpy as np\n",
    "import matplotlib.pyplot as plt\n",
    "import modules.rcnn.net as net\n",
    "import modules.rcnn.shapes as shapes\n",
    "import modules.rcnn.box as box\n",
    "\n",
    "import matplotlib.patches as patches"
   ]
  },
  {
   "cell_type": "code",
   "execution_count": 2,
   "metadata": {},
   "outputs": [
    {
     "name": "stdout",
     "output_type": "stream",
     "text": [
      "[[0.67710004 0.75       0.19475495 0.19475495]\n",
      " [0.50781491 0.25       0.45875045 0.45875045]]\n",
      "[2. 1.]\n"
     ]
    }
   ],
   "source": [
    "H = 40\n",
    "W = 40\n",
    "h = H-1\n",
    "w = W-1\n",
    "\n",
    "n_min = 2\n",
    "n_max = 5\n",
    "\n",
    "x, shap = shapes.get_random_shapes(n_min,n_max,H,W)\n",
    "\n",
    "gt_box, gt_label = shapes.shapes_to_gt(shap)\n",
    "print(gt_box)\n",
    "print(gt_label)"
   ]
  },
  {
   "cell_type": "code",
   "execution_count": 3,
   "metadata": {},
   "outputs": [],
   "source": [
    "anchor_boxes = np.array([\n",
    "    [0.3,0.3],\n",
    "    [0.2,0.2],\n",
    "    [0.1,0.1],\n",
    "    [0.05,0.05],\n",
    "])\n",
    "\n",
    "K = anchor_boxes.shape[0]\n",
    "\n",
    "anchors = np.zeros((H,W,K,4))\n",
    "\n",
    "for i in range(H):\n",
    "    for j in range(W):\n",
    "        anchors[i,j,:,0] = j/(W-1)\n",
    "        anchors[i,j,:,1] = i/(H-1)\n",
    "        anchors[i,j,:,2] = anchor_boxes[:,0]\n",
    "        anchors[i,j,:,3] = anchor_boxes[:,1]\n",
    "        \n",
    "anchors_1d = anchors.reshape((-1,4))"
   ]
  },
  {
   "cell_type": "code",
   "execution_count": 4,
   "metadata": {},
   "outputs": [
    {
     "data": {
      "image/png": "[encoded data removed]",
      "text/plain": [
       "<Figure size 432x288 with 2 Axes>"
      ]
     },
     "metadata": {
      "needs_background": "light"
     },
     "output_type": "display_data"
    }
   ],
   "source": [
    "plt.figure()\n",
    "plt.imshow(x)\n",
    "plt.colorbar()\n",
    "plt.show()"
   ]
  },
  {
   "cell_type": "code",
   "execution_count": null,
   "metadata": {},
   "outputs": [],
   "source": [
    "Ntrain     = 1000\n",
    "lr         = 0.001\n",
    "print_step = 100"
   ]
  },
  {
   "cell_type": "code",
   "execution_count": null,
   "metadata": {},
   "outputs": [
    {
     "name": "stderr",
     "output_type": "stream",
     "text": [
      "WARNING: Logging before flag parsing goes to stderr.\n",
      "W0820 08:49:28.874010 139904924378944 lazy_loader.py:50] \n",
      "The TensorFlow contrib module will not be included in TensorFlow 2.0.\n",
      "For more information, please see:\n",
      "  * https://github.com/tensorflow/community/blob/master/rfcs/20180907-contrib-sunset.md\n",
      "  * https://github.com/tensorflow/addons\n",
      "  * https://github.com/tensorflow/io (for I/O related ops)\n",
      "If you depend on functionality not listed there, please file an issue.\n",
      "\n",
      "W0820 08:49:28.875391 139904924378944 deprecation_wrapper.py:119] From /home/gabriel/projects/centerline_detection/modules/rcnn/net.py:14: The name tf.variable_scope is deprecated. Please use tf.compat.v1.variable_scope instead.\n",
      "\n",
      "W0820 08:49:28.876515 139904924378944 deprecation_wrapper.py:119] From /home/gabriel/projects/centerline_detection/modules/layers_new.py:35: The name tf.random_normal is deprecated. Please use tf.random.normal instead.\n",
      "\n",
      "W0820 08:49:29.033216 139904924378944 deprecation.py:323] From /home/gabriel/anaconda3/lib/python3.7/site-packages/tensorflow/python/ops/array_ops.py:1354: add_dispatch_support.<locals>.wrapper (from tensorflow.python.ops.array_ops) is deprecated and will be removed in a future version.\n",
      "Instructions for updating:\n",
      "Use tf.where in 2.0, which has the same broadcast rule as np.where\n",
      "W0820 08:49:29.060495 139904924378944 deprecation.py:323] From /home/gabriel/projects/centerline_detection/modules/rcnn/net.py:122: to_int32 (from tensorflow.python.ops.math_ops) is deprecated and will be removed in a future version.\n",
      "Instructions for updating:\n",
      "Use `tf.cast` instead.\n",
      "W0820 08:49:29.068560 139904924378944 deprecation.py:506] From /home/gabriel/projects/centerline_detection/modules/rcnn/net.py:127: calling crop_and_resize_v1 (from tensorflow.python.ops.image_ops_impl) with box_ind is deprecated and will be removed in a future version.\n",
      "Instructions for updating:\n",
      "box_ind is deprecated, use box_indices instead\n"
     ]
    },
    {
     "name": "stdout",
     "output_type": "stream",
     "text": [
      "Tensor(\"Sum_1:0\", shape=(), dtype=float32) Tensor(\"mul_7:0\", shape=(), dtype=float32) Tensor(\"add_4:0\", shape=(), dtype=float32)\n"
     ]
    }
   ],
   "source": [
    "x_tf       = tf.placeholder(shape=[1,H,W,1], dtype=tf.float32)\n",
    "y_box_tf   = tf.placeholder(shape=[H*W*K,4], dtype=tf.float32)\n",
    "y_label_tf = tf.placeholder(shape=[H*W*K], dtype=tf.float32)\n",
    "y_weights_tf = tf.placeholder(shape=[H*W*K], dtype=tf.float32)\n",
    "\n",
    "backbone = net.Backbone(input_channels=1, output_size=32)\n",
    "rpn      = net.RPN(backbone, num_boxes=K, backbone_channels=32, \n",
    "                   window_size=20, hidden_size=64)\n",
    "\n",
    "rcnn     = net.RCNN(backbone, rpn, anchors, backbone_channels=1, \n",
    "                   window_size=10, hidden_size=64, num_classes=3, obj_threshold=0.9, scope='rcnn')\n",
    "\n",
    "\n",
    "crop_conv, sel_real_box, sel_real_box_xy_rot = rcnn(x_tf)\n",
    "\n",
    "rpn_obj_logits, rpn_obj, rpn_box = rpn(x_tf)\n",
    "\n",
    "list_box        = tf.reshape(rpn_box, shape=[-1,4])\n",
    "list_obj_logits = tf.reshape(rpn_obj_logits, shape=[-1])\n",
    "list_obj        = tf.reshape(rpn_obj, shape=[-1])\n",
    "\n",
    "loss_class = tf.reduce_sum(y_weights_tf*tf.nn.sigmoid_cross_entropy_with_logits(labels=y_label_tf, \n",
    "                                         logits=list_obj_logits))\n",
    "\n",
    "loss_box   = 10*tf.reduce_sum(y_weights_tf*y_label_tf*(tf.reduce_sum(tf.square(list_box - y_box_tf), axis=1)))\n",
    "\n",
    "lab_sum = tf.reduce_sum(y_label_tf)\n",
    "\n",
    "loss = loss_class+loss_box\n",
    "\n",
    "print(loss_class, loss_box, loss)"
   ]
  },
  {
   "cell_type": "code",
   "execution_count": null,
   "metadata": {},
   "outputs": [],
   "source": [
    "opt = tf.train.AdamOptimizer(lr)\n",
    "train_op = opt.minimize(loss)"
   ]
  },
  {
   "cell_type": "code",
   "execution_count": null,
   "metadata": {},
   "outputs": [],
   "source": [
    "sess = tf.Session()\n",
    "sess.run(tf.global_variables_initializer())"
   ]
  },
  {
   "cell_type": "code",
   "execution_count": null,
   "metadata": {},
   "outputs": [
    {
     "name": "stdout",
     "output_type": "stream",
     "text": [
      "iteration 0: loss=4249.581 loss_class=4243.473 loss_box=6.108, lab_sum=12.0\n",
      "iteration 100: loss=34.008 loss_class=34.008 loss_box=0.000, lab_sum=0.0\n",
      "iteration 200: loss=9.911 loss_class=9.004 loss_box=0.907, lab_sum=4.0\n",
      "iteration 300: loss=12.807 loss_class=11.479 loss_box=1.329, lab_sum=6.0\n",
      "iteration 400: loss=6.734 loss_class=2.606 loss_box=4.128, lab_sum=8.0\n",
      "iteration 500: loss=3.852 loss_class=2.686 loss_box=1.167, lab_sum=9.0\n",
      "iteration 600: loss=2.128 loss_class=2.128 loss_box=0.000, lab_sum=0.0\n",
      "iteration 700: loss=4.902 loss_class=3.099 loss_box=1.802, lab_sum=10.0\n",
      "iteration 800: loss=1.747 loss_class=1.137 loss_box=0.610, lab_sum=6.0\n",
      "iteration 900: loss=1.603 loss_class=0.320 loss_box=1.283, lab_sum=15.0\n"
     ]
    }
   ],
   "source": [
    "for i in range(Ntrain):\n",
    "    \n",
    "    x, shap = shapes.get_random_shapes(n_min,n_max,H,W)\n",
    "    \n",
    "    gt_box, gt_label = shapes.shapes_to_gt(shap)\n",
    "    \n",
    "    gt_t, gt_matched, gt_labels, gt_weights =\\\n",
    "    box.create_box_gt(anchors_1d, gt_box)\n",
    "    \n",
    "    x = x.reshape((1,H,W,1))\n",
    "    \n",
    "    sess.run(train_op, {x_tf:x, y_box_tf:gt_t, y_label_tf:gt_labels, y_weights_tf:gt_weights})\n",
    "    \n",
    "    if i%print_step == 0:\n",
    "        l,lc,lb,ls = sess.run([loss, loss_class, loss_box, lab_sum], {x_tf:x, y_box_tf:gt_t, y_label_tf:gt_labels, y_weights_tf:gt_weights})\n",
    "        \n",
    "        print(\"iteration {}: loss={:.3f} loss_class={:.3f} loss_box={:.3f}, lab_sum={:.1f}\".format(i,l, lc, lb, ls))"
   ]
  },
  {
   "cell_type": "code",
   "execution_count": null,
   "metadata": {},
   "outputs": [],
   "source": [
    "x, shap = shapes.get_random_shapes(n_min,n_max,H,W)\n",
    "\n",
    "gt_box, gt_label = shapes.shapes_to_gt(shap)\n",
    "\n",
    "gt_t, gt_matched, gt_labels, gt_weights =\\\n",
    "box.create_box_gt(anchors_1d, gt_box)\n",
    "\n",
    "x = x.reshape((1,H,W,1))\n",
    "\n",
    "out_box, l_box, out_obj = sess.run([rpn_box, list_box, rpn_obj], {x_tf:x})"
   ]
  },
  {
   "cell_type": "code",
   "execution_count": null,
   "metadata": {
    "scrolled": false
   },
   "outputs": [],
   "source": [
    "lab = gt_labels.reshape((H,W,K))\n",
    "weights = gt_weights.reshape((H,W,K))\n",
    "\n",
    "plt.figure()\n",
    "plt.imshow(x[0,:,:,0])\n",
    "plt.show()\n",
    "\n",
    "for i in range(K):\n",
    "    print(i)\n",
    "    plt.figure()\n",
    "    plt.imshow(out_obj[0,:,:,i], cmap='gray')\n",
    "    plt.colorbar()\n",
    "    plt.show()\n",
    "    \n",
    "    plt.figure()\n",
    "    plt.imshow(lab[:,:,i], cmap='gray')\n",
    "    plt.colorbar()\n",
    "    plt.show()\n",
    "    \n",
    "print(\"weights\")\n",
    "for i in range(K):\n",
    "    print(i)\n",
    "    plt.figure()\n",
    "    plt.imshow(weights[:,:,i], cmap='gray')\n",
    "    plt.colorbar()\n",
    "    plt.show()"
   ]
  },
  {
   "cell_type": "code",
   "execution_count": null,
   "metadata": {},
   "outputs": [],
   "source": [
    "predicted_boxes, predicted_obj = sess.run([list_box, list_obj],{x_tf:x})"
   ]
  },
  {
   "cell_type": "code",
   "execution_count": null,
   "metadata": {},
   "outputs": [],
   "source": [
    "anch_p = anchors.reshape((-1,4))[predicted_obj>0.9]"
   ]
  },
  {
   "cell_type": "code",
   "execution_count": null,
   "metadata": {},
   "outputs": [],
   "source": [
    "bp = predicted_boxes[predicted_obj>0.9]"
   ]
  },
  {
   "cell_type": "code",
   "execution_count": null,
   "metadata": {},
   "outputs": [],
   "source": [
    "gt_p = gt_t[predicted_obj>0.9]"
   ]
  },
  {
   "cell_type": "code",
   "execution_count": null,
   "metadata": {},
   "outputs": [],
   "source": [
    "bp_n = box.inv_bbox_transform(anch_p, bp)\n",
    "gt_n = box.inv_bbox_transform(anch_p, gt_p)\n",
    "print(bp_n*H)\n",
    "print(gt_n*H)\n",
    "print(gt_box*H)"
   ]
  },
  {
   "cell_type": "code",
   "execution_count": null,
   "metadata": {},
   "outputs": [],
   "source": [
    "# Create figure and axes\n",
    "fig,ax = plt.subplots(1, figsize=(8,8))\n",
    "\n",
    "# Display the image\n",
    "ax.imshow(x[0,:,:,0])\n",
    "\n",
    "# Create a Rectangle patch\n",
    "for b in bp_n:\n",
    "    rect = patches.Rectangle((int(b[0]*w),int(b[1]*h)),int(b[2]*H),int(b[3]*H),linewidth=1,\n",
    "                             edgecolor='r',facecolor='none')\n",
    "\n",
    "    # Add the patch to the Axes\n",
    "    ax.add_patch(rect)\n",
    "\n",
    "    # Create a Rectangle patch\n",
    "for b in gt_box:\n",
    "    rect = patches.Rectangle((int(b[0]*w)-0.5,int(b[1]*h)-0.5),int(b[2]*H),int(b[3]*H),linewidth=1,\n",
    "                             edgecolor='g',facecolor='none')\n",
    "\n",
    "    # Add the patch to the Axes\n",
    "    ax.add_patch(rect)\n",
    "    \n",
    "plt.show()"
   ]
  },
  {
   "cell_type": "code",
   "execution_count": null,
   "metadata": {},
   "outputs": [],
   "source": [
    "cropped = sess.run(crop_conv,{x_tf:x})"
   ]
  },
  {
   "cell_type": "code",
   "execution_count": null,
   "metadata": {},
   "outputs": [],
   "source": [
    "print(cropped.shape)"
   ]
  },
  {
   "cell_type": "code",
   "execution_count": null,
   "metadata": {
    "scrolled": false
   },
   "outputs": [],
   "source": [
    "for n in range(cropped.shape[0]):\n",
    "    plt.figure()\n",
    "    plt.imshow(cropped[n,:,:,0])\n",
    "    plt.show()"
   ]
  },
  {
   "cell_type": "code",
   "execution_count": null,
   "metadata": {},
   "outputs": [],
   "source": [
    "real_box, real_box_xy_rot = sess.run([sel_real_box, sel_real_box_xy_rot], {x_tf:x})\n",
    "print(real_box[:4]*H)\n",
    "print(real_box_xy_rot[:4]*H)\n",
    "print(bp_n[:4]*H)"
   ]
  },
  {
   "cell_type": "code",
   "execution_count": null,
   "metadata": {},
   "outputs": [],
   "source": []
  },
  {
   "cell_type": "code",
   "execution_count": null,
   "metadata": {},
   "outputs": [],
   "source": []
  }
 ],
 "metadata": {
  "kernelspec": {
   "display_name": "Python 3",
   "language": "python",
   "name": "python3"
  },
  "language_info": {
   "codemirror_mode": {
    "name": "ipython",
    "version": 3
   },
   "file_extension": ".py",
   "mimetype": "text/x-python",
   "name": "python",
   "nbconvert_exporter": "python",
   "pygments_lexer": "ipython3",
   "version": "3.7.1"
  }
 },
 "nbformat": 4,
 "nbformat_minor": 2
}
