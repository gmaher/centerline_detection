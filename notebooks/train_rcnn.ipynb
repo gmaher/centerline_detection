{
 "cells": [
  {
   "cell_type": "code",
   "execution_count": 1,
   "metadata": {},
   "outputs": [],
   "source": [
    "import os\n",
    "import sys\n",
    "sys.path.append(os.path.abspath('..'))\n",
    "\n",
    "import warnings\n",
    "warnings.filterwarnings(\"ignore\")\n",
    "\n",
    "import tensorflow as tf\n",
    "\n",
    "import numpy as np\n",
    "import matplotlib.pyplot as plt\n",
    "import modules.rcnn.net as net\n",
    "import modules.rcnn.shapes as shapes\n",
    "import modules.rcnn.box as box\n",
    "\n",
    "import matplotlib.patches as patches"
   ]
  },
  {
   "cell_type": "code",
   "execution_count": 2,
   "metadata": {},
   "outputs": [
    {
     "name": "stdout",
     "output_type": "stream",
     "text": [
      "[[0.73818459 0.875      0.10308571 0.10308571]\n",
      " [0.33553547 0.625      0.15775416 0.15775416]\n",
      " [0.42338477 0.375      0.21544618 0.21544618]\n",
      " [0.41373709 0.125      0.144271   0.14871047]]\n",
      "[2. 1. 1. 0.]\n"
     ]
    }
   ],
   "source": [
    "H = 40\n",
    "W = 40\n",
    "h = H-1\n",
    "w = W-1\n",
    "\n",
    "n_min = 2\n",
    "n_max = 5\n",
    "\n",
    "x, shap = shapes.get_random_shapes(n_min,n_max,H,W)\n",
    "\n",
    "gt_box, gt_label = shapes.shapes_to_gt(shap)\n",
    "print(gt_box)\n",
    "print(gt_label)"
   ]
  },
  {
   "cell_type": "code",
   "execution_count": 3,
   "metadata": {},
   "outputs": [],
   "source": [
    "anchor_boxes = np.array([\n",
    "    [0.3,0.3],\n",
    "    [0.2,0.2],\n",
    "    [0.1,0.1],\n",
    "    [0.05,0.05],\n",
    "])\n",
    "\n",
    "K = anchor_boxes.shape[0]\n",
    "\n",
    "anchors = np.zeros((H,W,K,4))\n",
    "\n",
    "for i in range(H):\n",
    "    for j in range(W):\n",
    "        anchors[i,j,:,0] = j/(W-1)\n",
    "        anchors[i,j,:,1] = i/(H-1)\n",
    "        anchors[i,j,:,2] = anchor_boxes[:,0]\n",
    "        anchors[i,j,:,3] = anchor_boxes[:,1]\n",
    "        \n",
    "anchors_1d = anchors.reshape((-1,4))"
   ]
  },
  {
   "cell_type": "code",
   "execution_count": 4,
   "metadata": {},
   "outputs": [
    {
     "data": {
      "image/png": "[encoded data removed]",
      "text/plain": [
       "<Figure size 432x288 with 2 Axes>"
      ]
     },
     "metadata": {},
     "output_type": "display_data"
    }
   ],
   "source": [
    "plt.figure()\n",
    "plt.imshow(x)\n",
    "plt.colorbar()\n",
    "plt.show()"
   ]
  },
  {
   "cell_type": "code",
   "execution_count": 5,
   "metadata": {},
   "outputs": [],
   "source": [
    "Ntrain     = 10000\n",
    "lr         = 0.0001\n",
    "print_step = 1000"
   ]
  },
  {
   "cell_type": "code",
   "execution_count": 6,
   "metadata": {},
   "outputs": [
    {
     "name": "stderr",
     "output_type": "stream",
     "text": [
      "WARNING: Logging before flag parsing goes to stderr.\n",
      "W0815 16:00:04.737293 140121516545792 lazy_loader.py:50] \n",
      "The TensorFlow contrib module will not be included in TensorFlow 2.0.\n",
      "For more information, please see:\n",
      "  * https://github.com/tensorflow/community/blob/master/rfcs/20180907-contrib-sunset.md\n",
      "  * https://github.com/tensorflow/addons\n",
      "  * https://github.com/tensorflow/io (for I/O related ops)\n",
      "If you depend on functionality not listed there, please file an issue.\n",
      "\n",
      "W0815 16:00:04.739371 140121516545792 deprecation_wrapper.py:119] From /home/marsdenlab/projects/centerline_detection/modules/rcnn/net.py:14: The name tf.variable_scope is deprecated. Please use tf.compat.v1.variable_scope instead.\n",
      "\n",
      "W0815 16:00:04.740604 140121516545792 deprecation_wrapper.py:119] From /home/marsdenlab/projects/centerline_detection/modules/layers_new.py:35: The name tf.random_normal is deprecated. Please use tf.random.normal instead.\n",
      "\n",
      "W0815 16:00:04.871448 140121516545792 deprecation.py:323] From /home/marsdenlab/anaconda3/lib/python3.6/site-packages/tensorflow/python/ops/array_ops.py:1354: add_dispatch_support.<locals>.wrapper (from tensorflow.python.ops.array_ops) is deprecated and will be removed in a future version.\n",
      "Instructions for updating:\n",
      "Use tf.where in 2.0, which has the same broadcast rule as np.where\n",
      "W0815 16:00:04.876292 140121516545792 deprecation.py:323] From /home/marsdenlab/projects/centerline_detection/modules/rcnn/net.py:110: to_int32 (from tensorflow.python.ops.math_ops) is deprecated and will be removed in a future version.\n",
      "Instructions for updating:\n",
      "Use `tf.cast` instead.\n",
      "W0815 16:00:04.882009 140121516545792 deprecation.py:506] From /home/marsdenlab/projects/centerline_detection/modules/rcnn/net.py:115: calling crop_and_resize_v1 (from tensorflow.python.ops.image_ops_impl) with box_ind is deprecated and will be removed in a future version.\n",
      "Instructions for updating:\n",
      "box_ind is deprecated, use box_indices instead\n"
     ]
    },
    {
     "name": "stdout",
     "output_type": "stream",
     "text": [
      "Tensor(\"Sum_1:0\", shape=(), dtype=float32) Tensor(\"mul_7:0\", shape=(), dtype=float32) Tensor(\"add_2:0\", shape=(), dtype=float32)\n"
     ]
    }
   ],
   "source": [
    "x_tf       = tf.placeholder(shape=[1,H,W,1], dtype=tf.float32)\n",
    "y_box_tf   = tf.placeholder(shape=[H*W*K,4], dtype=tf.float32)\n",
    "y_label_tf = tf.placeholder(shape=[H*W*K], dtype=tf.float32)\n",
    "y_weights_tf = tf.placeholder(shape=[H*W*K], dtype=tf.float32)\n",
    "\n",
    "backbone = net.Backbone(input_channels=1, output_size=64)\n",
    "rpn      = net.RPN(backbone, num_boxes=K, backbone_channels=64, \n",
    "                   window_size=20, hidden_size=256)\n",
    "\n",
    "rcnn     = net.RCNN(backbone, rpn, anchors, backbone_channels=1, \n",
    "                   window_size=10, hidden_size=256, num_classes=3, obj_threshold=0.8, scope='rcnn')\n",
    "\n",
    "\n",
    "crop_conv = rcnn(x_tf)\n",
    "\n",
    "rpn_obj_logits, rpn_obj, rpn_box = rpn(x_tf)\n",
    "\n",
    "list_box        = tf.reshape(rpn_box, shape=[-1,4])\n",
    "list_obj_logits = tf.reshape(rpn_obj_logits, shape=[-1])\n",
    "list_obj        = tf.reshape(rpn_obj, shape=[-1])\n",
    "\n",
    "loss_class = tf.reduce_sum(y_weights_tf*tf.nn.sigmoid_cross_entropy_with_logits(labels=y_label_tf, \n",
    "                                         logits=list_obj_logits))\n",
    "\n",
    "loss_box   = 10*tf.reduce_sum(y_weights_tf*y_label_tf*(tf.reduce_sum(tf.square(list_box - y_box_tf), axis=1)))\n",
    "\n",
    "lab_sum = tf.reduce_sum(y_label_tf)\n",
    "\n",
    "loss = loss_class+loss_box\n",
    "\n",
    "print(loss_class, loss_box, loss)"
   ]
  },
  {
   "cell_type": "code",
   "execution_count": 7,
   "metadata": {},
   "outputs": [],
   "source": [
    "opt = tf.train.AdamOptimizer(lr)\n",
    "train_op = opt.minimize(loss)"
   ]
  },
  {
   "cell_type": "code",
   "execution_count": 8,
   "metadata": {},
   "outputs": [],
   "source": [
    "sess = tf.Session()\n",
    "sess.run(tf.global_variables_initializer())"
   ]
  },
  {
   "cell_type": "code",
   "execution_count": null,
   "metadata": {},
   "outputs": [
    {
     "name": "stdout",
     "output_type": "stream",
     "text": [
      "iteration 0: loss=4337.894 loss_class=4321.539 loss_box=16.355, lab_sum=17.0\n",
      "iteration 1000: loss=6.291 loss_class=3.621 loss_box=2.670, lab_sum=16.0\n",
      "iteration 2000: loss=13.046 loss_class=4.556 loss_box=8.489, lab_sum=27.0\n",
      "iteration 3000: loss=2.233 loss_class=0.696 loss_box=1.537, lab_sum=25.0\n"
     ]
    }
   ],
   "source": [
    "for i in range(Ntrain):\n",
    "    \n",
    "    x, shap = shapes.get_random_shapes(n_min,n_max,H,W)\n",
    "    \n",
    "    gt_box, gt_label = shapes.shapes_to_gt(shap)\n",
    "    \n",
    "    gt_t, gt_matched, gt_labels, gt_weights =\\\n",
    "    box.create_box_gt(anchors_1d, gt_box)\n",
    "    \n",
    "    x = x.reshape((1,H,W,1))\n",
    "    \n",
    "    sess.run(train_op, {x_tf:x, y_box_tf:gt_t, y_label_tf:gt_labels, y_weights_tf:gt_weights})\n",
    "    \n",
    "    if i%print_step == 0:\n",
    "        l,lc,lb,ls = sess.run([loss, loss_class, loss_box, lab_sum], {x_tf:x, y_box_tf:gt_t, y_label_tf:gt_labels, y_weights_tf:gt_weights})\n",
    "        \n",
    "        print(\"iteration {}: loss={:.3f} loss_class={:.3f} loss_box={:.3f}, lab_sum={:.1f}\".format(i,l, lc, lb, ls))"
   ]
  },
  {
   "cell_type": "code",
   "execution_count": 10,
   "metadata": {},
   "outputs": [],
   "source": [
    "x, shap = shapes.get_random_shapes(n_min,n_max,H,W)\n",
    "\n",
    "gt_box, gt_label = shapes.shapes_to_gt(shap)\n",
    "\n",
    "gt_t, gt_matched, gt_labels, gt_weights =\\\n",
    "box.create_box_gt(anchors_1d, gt_box)\n",
    "\n",
    "x = x.reshape((1,H,W,1))\n",
    "\n",
    "out_box, l_box, out_obj = sess.run([rpn_box, list_box, rpn_obj], {x_tf:x})"
   ]
  },
  {
   "cell_type": "code",
   "execution_count": 11,
   "metadata": {
    "scrolled": false
   },
   "outputs": [
    {
     "data": {
      "image/png": "[encoded data removed]",
      "text/plain": [
       "<Figure size 432x288 with 1 Axes>"
      ]
     },
     "metadata": {},
     "output_type": "display_data"
    },
    {
     "name": "stdout",
     "output_type": "stream",
     "text": [
      "0\n"
     ]
    },
    {
     "data": {
      "image/png": "[encoded data removed]",
      "text/plain": [
       "<Figure size 432x288 with 2 Axes>"
      ]
     },
     "metadata": {},
     "output_type": "display_data"
    },
    {
     "data": {
      "image/png": "[encoded data removed]",
      "text/plain": [
       "<Figure size 432x288 with 2 Axes>"
      ]
     },
     "metadata": {},
     "output_type": "display_data"
    },
    {
     "name": "stdout",
     "output_type": "stream",
     "text": [
      "1\n"
     ]
    },
    {
     "data": {
      "image/png": "[encoded data removed]",
      "text/plain": [
       "<Figure size 432x288 with 2 Axes>"
      ]
     },
     "metadata": {},
     "output_type": "display_data"
    },
    {
     "data": {
      "image/png": "[encoded data removed]",
      "text/plain": [
       "<Figure size 432x288 with 2 Axes>"
      ]
     },
     "metadata": {},
     "output_type": "display_data"
    },
    {
     "name": "stdout",
     "output_type": "stream",
     "text": [
      "2\n"
     ]
    },
    {
     "data": {
      "image/png": "[encoded data removed]",
      "text/plain": [
       "<Figure size 432x288 with 2 Axes>"
      ]
     },
     "metadata": {},
     "output_type": "display_data"
    },
    {
     "data": {
      "image/png": "[encoded data removed]",
      "text/plain": [
       "<Figure size 432x288 with 2 Axes>"
      ]
     },
     "metadata": {},
     "output_type": "display_data"
    },
    {
     "name": "stdout",
     "output_type": "stream",
     "text": [
      "3\n"
     ]
    },
    {
     "data": {
      "image/png": "[encoded data removed]",
      "text/plain": [
       "<Figure size 432x288 with 2 Axes>"
      ]
     },
     "metadata": {},
     "output_type": "display_data"
    },
    {
     "data": {
      "image/png": "[encoded data removed]",
      "text/plain": [
       "<Figure size 432x288 with 2 Axes>"
      ]
     },
     "metadata": {},
     "output_type": "display_data"
    },
    {
     "name": "stdout",
     "output_type": "stream",
     "text": [
      "weights\n",
      "0\n"
     ]
    },
    {
     "data": {
      "image/png": "[encoded data removed]",
      "text/plain": [
       "<Figure size 432x288 with 2 Axes>"
      ]
     },
     "metadata": {},
     "output_type": "display_data"
    },
    {
     "name": "stdout",
     "output_type": "stream",
     "text": [
      "1\n"
     ]
    },
    {
     "data": {
      "image/png": "[encoded data removed]",
      "text/plain": [
       "<Figure size 432x288 with 2 Axes>"
      ]
     },
     "metadata": {},
     "output_type": "display_data"
    },
    {
     "name": "stdout",
     "output_type": "stream",
     "text": [
      "2\n"
     ]
    },
    {
     "data": {
      "image/png": "[encoded data removed]",
      "text/plain": [
       "<Figure size 432x288 with 2 Axes>"
      ]
     },
     "metadata": {},
     "output_type": "display_data"
    },
    {
     "name": "stdout",
     "output_type": "stream",
     "text": [
      "3\n"
     ]
    },
    {
     "data": {
      "image/png": "[encoded data removed]",
      "text/plain": [
       "<Figure size 432x288 with 2 Axes>"
      ]
     },
     "metadata": {},
     "output_type": "display_data"
    }
   ],
   "source": [
    "lab = gt_labels.reshape((H,W,K))\n",
    "weights = gt_weights.reshape((H,W,K))\n",
    "\n",
    "plt.figure()\n",
    "plt.imshow(x[0,:,:,0])\n",
    "plt.show()\n",
    "\n",
    "for i in range(K):\n",
    "    print(i)\n",
    "    plt.figure()\n",
    "    plt.imshow(out_obj[0,:,:,i], cmap='gray')\n",
    "    plt.colorbar()\n",
    "    plt.show()\n",
    "    \n",
    "    plt.figure()\n",
    "    plt.imshow(lab[:,:,i], cmap='gray')\n",
    "    plt.colorbar()\n",
    "    plt.show()\n",
    "    \n",
    "print(\"weights\")\n",
    "for i in range(K):\n",
    "    print(i)\n",
    "    plt.figure()\n",
    "    plt.imshow(weights[:,:,i], cmap='gray')\n",
    "    plt.colorbar()\n",
    "    plt.show()"
   ]
  },
  {
   "cell_type": "code",
   "execution_count": 12,
   "metadata": {},
   "outputs": [],
   "source": [
    "predicted_boxes, predicted_obj = sess.run([list_box, list_obj],{x_tf:x})"
   ]
  },
  {
   "cell_type": "code",
   "execution_count": 18,
   "metadata": {},
   "outputs": [
    {
     "name": "stdout",
     "output_type": "stream",
     "text": [
      "[[0.25641026 0.07692308 0.2        0.2       ]\n",
      " [0.23076923 0.1025641  0.2        0.2       ]\n",
      " [0.25641026 0.1025641  0.2        0.2       ]\n",
      " [0.28205128 0.1025641  0.2        0.2       ]\n",
      " [0.30769231 0.1025641  0.2        0.2       ]\n",
      " [0.23076923 0.12820513 0.2        0.2       ]\n",
      " [0.25641026 0.12820513 0.2        0.2       ]\n",
      " [0.28205128 0.12820513 0.2        0.2       ]\n",
      " [0.30769231 0.12820513 0.2        0.2       ]\n",
      " [0.25641026 0.15384615 0.2        0.2       ]\n",
      " [0.28205128 0.15384615 0.2        0.2       ]\n",
      " [0.48717949 0.35897436 0.1        0.1       ]\n",
      " [0.51282051 0.35897436 0.1        0.1       ]\n",
      " [0.48717949 0.38461538 0.1        0.1       ]\n",
      " [0.51282051 0.38461538 0.1        0.1       ]\n",
      " [0.69230769 0.58974359 0.2        0.2       ]\n",
      " [0.71794872 0.58974359 0.2        0.2       ]\n",
      " [0.69230769 0.61538462 0.2        0.2       ]\n",
      " [0.71794872 0.61538462 0.2        0.2       ]\n",
      " [0.69230769 0.64102564 0.2        0.2       ]\n",
      " [0.71794872 0.64102564 0.2        0.2       ]\n",
      " [0.71794872 0.64102564 0.1        0.1       ]\n",
      " [0.25641026 0.87179487 0.2        0.2       ]\n",
      " [0.28205128 0.87179487 0.1        0.1       ]]\n"
     ]
    }
   ],
   "source": [
    "anch_p = anchors.reshape((-1,4))[predicted_obj>0.9]\n",
    "print(anch_p)"
   ]
  },
  {
   "cell_type": "code",
   "execution_count": 19,
   "metadata": {},
   "outputs": [
    {
     "name": "stdout",
     "output_type": "stream",
     "text": [
      "[[ 1.04650371e-01  2.54620135e-01 -1.14795543e-01 -1.40320867e-01]\n",
      " [ 2.04235762e-01  1.29628152e-01 -1.09379575e-01 -1.38713583e-01]\n",
      " [ 1.12721346e-01  1.36071399e-01 -1.65248856e-01 -1.65244132e-01]\n",
      " [-2.91603692e-02  1.29450530e-01 -1.71045199e-01 -1.77731276e-01]\n",
      " [-1.24377869e-01  1.15189806e-01 -1.09769113e-01 -1.29420772e-01]\n",
      " [ 1.86802238e-01  1.40530604e-03 -8.91579911e-02 -1.06252104e-01]\n",
      " [ 1.14604153e-01 -8.87607317e-03 -1.89697996e-01 -1.88726097e-01]\n",
      " [-2.40672827e-02 -8.34648591e-03 -1.89000651e-01 -1.89403623e-01]\n",
      " [-1.23971619e-01 -2.16199644e-02 -1.12817131e-01 -1.03784747e-01]\n",
      " [ 8.87386650e-02 -1.44231901e-01 -1.04836933e-01 -1.21283002e-01]\n",
      " [ 1.93135329e-05 -1.48086727e-01 -9.41988230e-02 -1.27217621e-01]\n",
      " [ 1.05610520e-01  8.08041766e-02  1.25004843e-01  1.52470544e-01]\n",
      " [-6.01961687e-02  8.04273486e-02  1.37242064e-01  1.38969287e-01]\n",
      " [ 8.89397562e-02 -1.61606267e-01  7.87376538e-02  1.22865185e-01]\n",
      " [-8.25540051e-02 -1.58637986e-01  1.18859477e-01  1.27121180e-01]\n",
      " [ 1.07635260e-01  2.19241202e-01 -7.60167167e-02 -2.98236519e-01]\n",
      " [-1.06902448e-02  2.05569029e-01 -5.57804368e-02 -2.90081590e-01]\n",
      " [ 9.26840752e-02  7.94184878e-02 -1.72850832e-01 -3.17851782e-01]\n",
      " [-3.49165909e-02  6.98286667e-02 -1.65460512e-01 -3.17801625e-01]\n",
      " [ 8.61936957e-02 -4.98135164e-02 -1.73460767e-01 -3.05019051e-01]\n",
      " [-2.52630189e-02 -4.79314439e-02 -1.60882756e-01 -3.13416541e-01]\n",
      " [-6.48230389e-02 -1.16923362e-01  4.11057502e-01  3.01133871e-01]\n",
      " [ 6.52780384e-02  5.22818714e-02 -2.48368140e-02 -4.75311309e-01]\n",
      " [-1.45393312e-01 -1.71940569e-02  5.45488715e-01  1.63102895e-01]]\n"
     ]
    }
   ],
   "source": [
    "bp = predicted_boxes[predicted_obj>0.9]\n",
    "print(bp)"
   ]
  },
  {
   "cell_type": "code",
   "execution_count": 20,
   "metadata": {},
   "outputs": [
    {
     "name": "stdout",
     "output_type": "stream",
     "text": [
      "[[ 0.11449857  0.24038462 -0.16198315 -0.16198315]\n",
      " [ 0.24270369  0.11217949 -0.16198315 -0.16198315]\n",
      " [ 0.11449857  0.11217949 -0.16198315 -0.16198315]\n",
      " [-0.01370656  0.11217949 -0.16198315 -0.16198315]\n",
      " [-0.14191169  0.11217949 -0.16198315 -0.16198315]\n",
      " [ 0.24270369 -0.01602564 -0.16198315 -0.16198315]\n",
      " [ 0.11449857 -0.01602564 -0.16198315 -0.16198315]\n",
      " [-0.01370656 -0.01602564 -0.16198315 -0.16198315]\n",
      " [-0.14191169 -0.01602564 -0.16198315 -0.16198315]\n",
      " [ 0.11449857 -0.14423077 -0.16198315 -0.16198315]\n",
      " [-0.01370656 -0.14423077 -0.16198315 -0.16198315]\n",
      " [ 0.15731738  0.16025641  0.1386624   0.1386624 ]\n",
      " [-0.09909287  0.16025641  0.1386624   0.1386624 ]\n",
      " [ 0.15731738 -0.09615385  0.1386624   0.1386624 ]\n",
      " [-0.09909287 -0.09615385  0.1386624   0.1386624 ]\n",
      " [ 0.08224408  0.17628205 -0.16091054 -0.44615084]\n",
      " [-0.04596105  0.17628205 -0.16091054 -0.44615084]\n",
      " [ 0.08224408  0.04807692 -0.16091054 -0.44615084]\n",
      " [-0.04596105  0.04807692 -0.16091054 -0.44615084]\n",
      " [ 0.08224408 -0.08012821 -0.16091054 -0.44615084]\n",
      " [-0.04596105 -0.08012821 -0.16091054 -0.44615084]\n",
      " [-0.0919221  -0.16025641  0.53223664  0.24699634]\n",
      " [ 0.03031677  0.01602564 -0.09517307 -0.55338524]\n",
      " [-0.19577672  0.03205128  0.59797411  0.13976194]]\n"
     ]
    }
   ],
   "source": [
    "gt_p = gt_t[predicted_obj>0.9]\n",
    "print(gt_p)"
   ]
  },
  {
   "cell_type": "code",
   "execution_count": 21,
   "metadata": {},
   "outputs": [
    {
     "name": "stdout",
     "output_type": "stream",
     "text": [
      "[[11.09361322  5.11388416  7.13238716  6.95263481]\n",
      " [10.86465533  5.13958932  7.17112064  6.96381855]\n",
      " [11.15818103  5.19113529  6.78146172  6.78149366]\n",
      " [11.04876833  5.13816834  6.74226761  6.69733906]\n",
      " [11.31266936  5.02408255  7.16832781  7.02883339]\n",
      " [10.72518714  5.13944758  7.31760836  7.19358349]\n",
      " [11.17324348  5.05719654  6.61767149  6.62410593]\n",
      " [11.08951302  5.06143324  6.62228775  6.61961985]\n",
      " [11.31591936  4.95524541  7.14651203  7.21135426]\n",
      " [10.96631958  4.99999095  7.20377064  7.08626604]\n",
      " [11.28220579  4.96915234  7.28081417  7.04433632]\n",
      " [19.90962157 14.68219107  4.53261566  4.65883255]\n",
      " [20.27203584 14.68068375  4.58842325  4.59635544]\n",
      " [19.84293851 14.73819032  4.32768202  4.52292776]\n",
      " [20.18260449 14.75006344  4.50484657  4.54221869]\n",
      " [28.55338977 25.3436732   7.41440582  5.93700647]\n",
      " [28.63242676 25.23429582  7.56597424  5.98562002]\n",
      " [28.43378029 25.25073252  6.73010492  5.82168531]\n",
      " [28.43861599 25.17401395  6.78002644  5.82197714]\n",
      " [28.38185726 25.24251751  6.72600126  5.89687443]\n",
      " [28.51584457 25.25757409  6.81113529  5.84756327]\n",
      " [28.45865656 25.17333219  6.03364849  5.40556097]\n",
      " [10.77863456 35.29004984  7.80375242  4.97353172]\n",
      " [10.70047803 34.80301864  6.90180588  4.70863104]]\n",
      "[[11.17239878  5.          6.80364426  6.80364426]\n",
      " [11.17239878  5.          6.80364426  6.80364426]\n",
      " [11.17239878  5.          6.80364426  6.80364426]\n",
      " [11.17239878  5.          6.80364426  6.80364426]\n",
      " [11.17239878  5.          6.80364426  6.80364426]\n",
      " [11.17239878  5.          6.80364426  6.80364426]\n",
      " [11.17239878  5.          6.80364426  6.80364426]\n",
      " [11.17239878  5.          6.80364426  6.80364426]\n",
      " [11.17239878  5.          6.80364426  6.80364426]\n",
      " [11.17239878  5.          6.80364426  6.80364426]\n",
      " [11.17239878  5.          6.80364426  6.80364426]\n",
      " [20.11644902 15.          4.59494488  4.59494488]\n",
      " [20.11644902 15.          4.59494488  4.59494488]\n",
      " [20.11644902 15.          4.59494488  4.59494488]\n",
      " [20.11644902 15.          4.59494488  4.59494488]\n",
      " [28.35026033 25.          6.81094586  5.12069773]\n",
      " [28.35026033 25.          6.81094586  5.12069773]\n",
      " [28.35026033 25.          6.81094586  5.12069773]\n",
      " [28.35026033 25.          6.81094586  5.12069773]\n",
      " [28.35026033 25.          6.81094586  5.12069773]\n",
      " [28.35026033 25.          6.81094586  5.12069773]\n",
      " [28.35026033 25.          6.81094586  5.12069773]\n",
      " [10.49894439 35.          7.27372452  4.6       ]\n",
      " [10.49894439 35.          7.27372452  4.6       ]]\n",
      "[[10.49894439 35.          7.27372452  4.6       ]\n",
      " [28.35026033 25.          6.81094586  5.12069773]\n",
      " [20.11644902 15.          4.59494488  4.59494488]\n",
      " [11.17239878  5.          6.80364426  6.80364426]]\n"
     ]
    }
   ],
   "source": [
    "bp_n = box.inv_bbox_transform(anch_p, bp)\n",
    "gt_n = box.inv_bbox_transform(anch_p, gt_p)\n",
    "print(bp_n*H)\n",
    "print(gt_n*H)\n",
    "print(gt_box*H)"
   ]
  },
  {
   "cell_type": "code",
   "execution_count": 22,
   "metadata": {},
   "outputs": [
    {
     "data": {
      "image/png": "[encoded data removed]",
      "text/plain": [
       "<Figure size 576x576 with 1 Axes>"
      ]
     },
     "metadata": {},
     "output_type": "display_data"
    }
   ],
   "source": [
    "# Create figure and axes\n",
    "fig,ax = plt.subplots(1, figsize=(8,8))\n",
    "\n",
    "# Display the image\n",
    "ax.imshow(x[0,:,:,0])\n",
    "\n",
    "# Create a Rectangle patch\n",
    "for b in bp_n:\n",
    "    rect = patches.Rectangle((int(b[0]*w),int(b[1]*h)),int(b[2]*H),int(b[3]*H),linewidth=1,\n",
    "                             edgecolor='r',facecolor='none')\n",
    "\n",
    "    # Add the patch to the Axes\n",
    "    ax.add_patch(rect)\n",
    "\n",
    "    # Create a Rectangle patch\n",
    "for b in gt_box:\n",
    "    rect = patches.Rectangle((int(b[0]*w)-0.5,int(b[1]*h)-0.5),int(b[2]*H),int(b[3]*H),linewidth=1,\n",
    "                             edgecolor='g',facecolor='none')\n",
    "\n",
    "    # Add the patch to the Axes\n",
    "    ax.add_patch(rect)\n",
    "    \n",
    "plt.show()"
   ]
  },
  {
   "cell_type": "code",
   "execution_count": null,
   "metadata": {},
   "outputs": [],
   "source": []
  },
  {
   "cell_type": "code",
   "execution_count": null,
   "metadata": {},
   "outputs": [],
   "source": []
  }
 ],
 "metadata": {
  "kernelspec": {
   "display_name": "Python 3",
   "language": "python",
   "name": "python3"
  },
  "language_info": {
   "codemirror_mode": {
    "name": "ipython",
    "version": 3
   },
   "file_extension": ".py",
   "mimetype": "text/x-python",
   "name": "python",
   "nbconvert_exporter": "python",
   "pygments_lexer": "ipython3",
   "version": "3.6.5"
  }
 },
 "nbformat": 4,
 "nbformat_minor": 2
}
