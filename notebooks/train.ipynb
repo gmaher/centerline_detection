{
 "cells": [
  {
   "cell_type": "code",
   "execution_count": 1,
   "metadata": {},
   "outputs": [],
   "source": [
    "import os\n",
    "import sys\n",
    "sys.path.append(os.path.abspath('..'))\n",
    "\n",
    "import warnings\n",
    "warnings.filterwarnings(\"ignore\")\n",
    "\n",
    "import tensorflow as tf\n",
    "\n",
    "import numpy as np\n",
    "import matplotlib.pyplot as plt\n",
    "import modules.rcnn.net as net\n",
    "import modules.rcnn.shapes as shapes\n",
    "import modules.rcnn.box as box\n",
    "\n",
    "import matplotlib.patches as patches"
   ]
  },
  {
   "cell_type": "code",
   "execution_count": 2,
   "metadata": {},
   "outputs": [
    {
     "name": "stdout",
     "output_type": "stream",
     "text": [
      "[[0.76871012 0.75       0.24       0.24      ]\n",
      " [0.44338401 0.25       0.15793987 0.33347618]]\n",
      "[1. 0.]\n"
     ]
    }
   ],
   "source": [
    "H = 40\n",
    "W = 40\n",
    "h = H-1\n",
    "w = W-1\n",
    "\n",
    "n_min = 2\n",
    "n_max = 5\n",
    "\n",
    "x, shap = shapes.get_random_shapes(n_min,n_max,H,W)\n",
    "\n",
    "gt_box, gt_label = shapes.shapes_to_gt(shap)\n",
    "print(gt_box)\n",
    "print(gt_label)"
   ]
  },
  {
   "cell_type": "code",
   "execution_count": 3,
   "metadata": {},
   "outputs": [],
   "source": [
    "anchor_boxes = np.array([\n",
    "    [0.3,0.3],\n",
    "    [0.2,0.2],\n",
    "    [0.1,0.1],\n",
    "    [0.05,0.05],\n",
    "])\n",
    "\n",
    "K = anchor_boxes.shape[0]\n",
    "\n",
    "anchors = np.zeros((H,W,K,4))\n",
    "\n",
    "for i in range(H):\n",
    "    for j in range(W):\n",
    "        anchors[i,j,:,0] = (j+0.5)/W\n",
    "        anchors[i,j,:,1] = (i+0.5)/H\n",
    "        anchors[i,j,:,2] = anchor_boxes[:,0]\n",
    "        anchors[i,j,:,3] = anchor_boxes[:,1]\n",
    "        \n",
    "anchors_1d = anchors.reshape((-1,4))"
   ]
  },
  {
   "cell_type": "code",
   "execution_count": 4,
   "metadata": {},
   "outputs": [
    {
     "data": {
      "image/png": "[encoded data removed]",
      "text/plain": [
       "<Figure size 432x288 with 2 Axes>"
      ]
     },
     "metadata": {},
     "output_type": "display_data"
    }
   ],
   "source": [
    "plt.figure()\n",
    "plt.imshow(x)\n",
    "plt.colorbar()\n",
    "plt.show()"
   ]
  },
  {
   "cell_type": "code",
   "execution_count": 5,
   "metadata": {},
   "outputs": [],
   "source": [
    "Ntrain     = 10000\n",
    "lr         = 0.0001\n",
    "print_step = 1000"
   ]
  },
  {
   "cell_type": "code",
   "execution_count": 6,
   "metadata": {},
   "outputs": [
    {
     "name": "stderr",
     "output_type": "stream",
     "text": [
      "WARNING: Logging before flag parsing goes to stderr.\n",
      "W0813 10:24:41.777219 140546246522624 lazy_loader.py:50] \n",
      "The TensorFlow contrib module will not be included in TensorFlow 2.0.\n",
      "For more information, please see:\n",
      "  * https://github.com/tensorflow/community/blob/master/rfcs/20180907-contrib-sunset.md\n",
      "  * https://github.com/tensorflow/addons\n",
      "  * https://github.com/tensorflow/io (for I/O related ops)\n",
      "If you depend on functionality not listed there, please file an issue.\n",
      "\n",
      "W0813 10:24:41.779328 140546246522624 deprecation_wrapper.py:119] From /home/marsdenlab/projects/centerline_detection/modules/rcnn/net.py:13: The name tf.variable_scope is deprecated. Please use tf.compat.v1.variable_scope instead.\n",
      "\n",
      "W0813 10:24:41.780398 140546246522624 deprecation_wrapper.py:119] From /home/marsdenlab/projects/centerline_detection/modules/layers_new.py:35: The name tf.random_normal is deprecated. Please use tf.random.normal instead.\n",
      "\n",
      "W0813 10:24:41.847846 140546246522624 deprecation.py:323] From /home/marsdenlab/anaconda3/lib/python3.6/site-packages/tensorflow/python/ops/nn_impl.py:180: add_dispatch_support.<locals>.wrapper (from tensorflow.python.ops.array_ops) is deprecated and will be removed in a future version.\n",
      "Instructions for updating:\n",
      "Use tf.where in 2.0, which has the same broadcast rule as np.where\n"
     ]
    },
    {
     "name": "stdout",
     "output_type": "stream",
     "text": [
      "Tensor(\"Sum:0\", shape=(), dtype=float32) Tensor(\"mul_3:0\", shape=(), dtype=float32) Tensor(\"add:0\", shape=(), dtype=float32)\n"
     ]
    }
   ],
   "source": [
    "x_tf       = tf.placeholder(shape=[1,H,W,1], dtype=tf.float32)\n",
    "y_box_tf   = tf.placeholder(shape=[H*W*K,4], dtype=tf.float32)\n",
    "y_label_tf = tf.placeholder(shape=[H*W*K], dtype=tf.float32)\n",
    "y_weights_tf = tf.placeholder(shape=[H*W*K], dtype=tf.float32)\n",
    "\n",
    "backbone = net.Backbone(input_channels=1, output_size=64)\n",
    "rpn      = net.RPN(backbone, num_boxes=K, backbone_channels=64, \n",
    "                   window_size=10, hidden_size=256)\n",
    "\n",
    "rpn_obj_logits, rpn_obj, rpn_box = rpn(x_tf)\n",
    "\n",
    "list_box        = tf.reshape(rpn_box, shape=[-1,4])\n",
    "list_obj_logits = tf.reshape(rpn_obj_logits, shape=[-1])\n",
    "list_obj        = tf.reshape(rpn_obj, shape=[-1])\n",
    "\n",
    "loss_class = tf.reduce_sum(y_weights_tf*tf.nn.sigmoid_cross_entropy_with_logits(labels=y_label_tf, \n",
    "                                         logits=list_obj_logits))\n",
    "\n",
    "loss_box   = 10*tf.reduce_sum(y_weights_tf*y_label_tf*(tf.reduce_sum(tf.square(list_box - y_box_tf), axis=1)))\n",
    "\n",
    "lab_sum = tf.reduce_sum(y_label_tf)\n",
    "\n",
    "loss = loss_class+loss_box\n",
    "\n",
    "print(loss_class, loss_box, loss)"
   ]
  },
  {
   "cell_type": "code",
   "execution_count": 7,
   "metadata": {},
   "outputs": [],
   "source": [
    "opt = tf.train.AdamOptimizer(lr)\n",
    "train_op = opt.minimize(loss)"
   ]
  },
  {
   "cell_type": "code",
   "execution_count": 8,
   "metadata": {},
   "outputs": [],
   "source": [
    "sess = tf.Session()\n",
    "sess.run(tf.global_variables_initializer())"
   ]
  },
  {
   "cell_type": "code",
   "execution_count": 9,
   "metadata": {},
   "outputs": [
    {
     "name": "stdout",
     "output_type": "stream",
     "text": [
      "iteration 0: loss=4370.648 loss_class=4313.583 loss_box=57.06505, lab_sum=58.000\n",
      "iteration 1000: loss=38.748 loss_class=33.532 loss_box=5.21594, lab_sum=10.000\n",
      "iteration 2000: loss=33.251 loss_class=26.134 loss_box=7.11714, lab_sum=48.000\n",
      "iteration 3000: loss=70.446 loss_class=69.611 loss_box=0.83445, lab_sum=6.000\n",
      "iteration 4000: loss=14.169 loss_class=5.010 loss_box=9.15870, lab_sum=84.000\n",
      "iteration 5000: loss=13.383 loss_class=6.910 loss_box=6.47359, lab_sum=84.000\n",
      "iteration 6000: loss=26.558 loss_class=16.404 loss_box=10.15384, lab_sum=51.000\n",
      "iteration 7000: loss=56.009 loss_class=33.495 loss_box=22.51333, lab_sum=48.000\n",
      "iteration 8000: loss=13.871 loss_class=4.157 loss_box=9.71422, lab_sum=72.000\n",
      "iteration 9000: loss=4.207 loss_class=1.688 loss_box=2.51822, lab_sum=26.000\n"
     ]
    }
   ],
   "source": [
    "for i in range(Ntrain):\n",
    "    \n",
    "    x, shap = shapes.get_random_shapes(n_min,n_max,H,W)\n",
    "    \n",
    "    gt_box, gt_label = shapes.shapes_to_gt(shap)\n",
    "    \n",
    "    gt_t, gt_matched, gt_labels, gt_weights =\\\n",
    "    box.create_box_gt(anchors_1d, gt_box)\n",
    "    \n",
    "    x = x.reshape((1,H,W,1))\n",
    "    \n",
    "    sess.run(train_op, {x_tf:x, y_box_tf:gt_t, y_label_tf:gt_labels, y_weights_tf:gt_weights})\n",
    "    \n",
    "    if i%print_step == 0:\n",
    "        l,lc,lb,ls = sess.run([loss, loss_class, loss_box, lab_sum], {x_tf:x, y_box_tf:gt_t, y_label_tf:gt_labels, y_weights_tf:gt_weights})\n",
    "        \n",
    "        print(\"iteration {}: loss={:.3f} loss_class={:.3f} loss_box={:.5f}, lab_sum={:.3f}\".format(i,l, lc, lb, ls))"
   ]
  },
  {
   "cell_type": "code",
   "execution_count": 10,
   "metadata": {},
   "outputs": [],
   "source": [
    "x, shap = shapes.get_random_shapes(n_min,n_max,H,W)\n",
    "\n",
    "gt_box, gt_label = shapes.shapes_to_gt(shap)\n",
    "\n",
    "gt_t, gt_matched, gt_labels, gt_weights =\\\n",
    "box.create_box_gt(anchors_1d, gt_box)\n",
    "\n",
    "x = x.reshape((1,H,W,1))\n",
    "\n",
    "out_box, l_box, out_obj = sess.run([rpn_box, list_box, rpn_obj], {x_tf:x})"
   ]
  },
  {
   "cell_type": "code",
   "execution_count": 11,
   "metadata": {
    "scrolled": false
   },
   "outputs": [
    {
     "data": {
      "image/png": "[encoded data removed]",
      "text/plain": [
       "<Figure size 432x288 with 1 Axes>"
      ]
     },
     "metadata": {},
     "output_type": "display_data"
    },
    {
     "name": "stdout",
     "output_type": "stream",
     "text": [
      "0\n"
     ]
    },
    {
     "data": {
      "image/png": "[encoded data removed]",
      "text/plain": [
       "<Figure size 432x288 with 2 Axes>"
      ]
     },
     "metadata": {},
     "output_type": "display_data"
    },
    {
     "data": {
      "image/png": "[encoded data removed]",
      "text/plain": [
       "<Figure size 432x288 with 2 Axes>"
      ]
     },
     "metadata": {},
     "output_type": "display_data"
    },
    {
     "name": "stdout",
     "output_type": "stream",
     "text": [
      "1\n"
     ]
    },
    {
     "data": {
      "image/png": "[encoded data removed]",
      "text/plain": [
       "<Figure size 432x288 with 2 Axes>"
      ]
     },
     "metadata": {},
     "output_type": "display_data"
    },
    {
     "data": {
      "image/png": "[encoded data removed]",
      "text/plain": [
       "<Figure size 432x288 with 2 Axes>"
      ]
     },
     "metadata": {},
     "output_type": "display_data"
    },
    {
     "name": "stdout",
     "output_type": "stream",
     "text": [
      "2\n"
     ]
    },
    {
     "data": {
      "image/png": "[encoded data removed]",
      "text/plain": [
       "<Figure size 432x288 with 2 Axes>"
      ]
     },
     "metadata": {},
     "output_type": "display_data"
    },
    {
     "data": {
      "image/png": "[encoded data removed]",
      "text/plain": [
       "<Figure size 432x288 with 2 Axes>"
      ]
     },
     "metadata": {},
     "output_type": "display_data"
    },
    {
     "name": "stdout",
     "output_type": "stream",
     "text": [
      "3\n"
     ]
    },
    {
     "data": {
      "image/png": "[encoded data removed]",
      "text/plain": [
       "<Figure size 432x288 with 2 Axes>"
      ]
     },
     "metadata": {},
     "output_type": "display_data"
    },
    {
     "data": {
      "image/png": "[encoded data removed]",
      "text/plain": [
       "<Figure size 432x288 with 2 Axes>"
      ]
     },
     "metadata": {},
     "output_type": "display_data"
    },
    {
     "name": "stdout",
     "output_type": "stream",
     "text": [
      "weights\n",
      "0\n"
     ]
    },
    {
     "data": {
      "image/png": "[encoded data removed]",
      "text/plain": [
       "<Figure size 432x288 with 2 Axes>"
      ]
     },
     "metadata": {},
     "output_type": "display_data"
    },
    {
     "name": "stdout",
     "output_type": "stream",
     "text": [
      "1\n"
     ]
    },
    {
     "data": {
      "image/png": "[encoded data removed]",
      "text/plain": [
       "<Figure size 432x288 with 2 Axes>"
      ]
     },
     "metadata": {},
     "output_type": "display_data"
    },
    {
     "name": "stdout",
     "output_type": "stream",
     "text": [
      "2\n"
     ]
    },
    {
     "data": {
      "image/png": "[encoded data removed]",
      "text/plain": [
       "<Figure size 432x288 with 2 Axes>"
      ]
     },
     "metadata": {},
     "output_type": "display_data"
    },
    {
     "name": "stdout",
     "output_type": "stream",
     "text": [
      "3\n"
     ]
    },
    {
     "data": {
      "image/png": "[encoded data removed]",
      "text/plain": [
       "<Figure size 432x288 with 2 Axes>"
      ]
     },
     "metadata": {},
     "output_type": "display_data"
    }
   ],
   "source": [
    "lab = gt_labels.reshape((H,W,K))\n",
    "weights = gt_weights.reshape((H,W,K))\n",
    "\n",
    "plt.figure()\n",
    "plt.imshow(x[0,:,:,0])\n",
    "plt.show()\n",
    "\n",
    "for i in range(K):\n",
    "    print(i)\n",
    "    plt.figure()\n",
    "    plt.imshow(out_obj[0,:,:,i], cmap='gray')\n",
    "    plt.colorbar()\n",
    "    plt.show()\n",
    "    \n",
    "    plt.figure()\n",
    "    plt.imshow(lab[:,:,i], cmap='gray')\n",
    "    plt.colorbar()\n",
    "    plt.show()\n",
    "    \n",
    "print(\"weights\")\n",
    "for i in range(K):\n",
    "    print(i)\n",
    "    plt.figure()\n",
    "    plt.imshow(weights[:,:,i], cmap='gray')\n",
    "    plt.colorbar()\n",
    "    plt.show()"
   ]
  },
  {
   "cell_type": "code",
   "execution_count": 12,
   "metadata": {},
   "outputs": [],
   "source": [
    "predicted_boxes, predicted_obj = sess.run([list_box, list_obj],{x_tf:x})"
   ]
  },
  {
   "cell_type": "code",
   "execution_count": 16,
   "metadata": {},
   "outputs": [
    {
     "name": "stdout",
     "output_type": "stream",
     "text": [
      "[[0.4875 0.2125 0.2    0.2   ]\n",
      " [0.5125 0.2125 0.2    0.2   ]\n",
      " [0.5375 0.2125 0.2    0.2   ]\n",
      " [0.4625 0.2375 0.2    0.2   ]\n",
      " [0.4875 0.2375 0.2    0.2   ]\n",
      " [0.5125 0.2375 0.2    0.2   ]\n",
      " [0.5375 0.2375 0.2    0.2   ]\n",
      " [0.4625 0.2625 0.2    0.2   ]\n",
      " [0.4875 0.2625 0.2    0.2   ]\n",
      " [0.5125 0.2625 0.2    0.2   ]\n",
      " [0.5375 0.2625 0.2    0.2   ]\n",
      " [0.4875 0.2875 0.2    0.2   ]\n",
      " [0.5125 0.2875 0.2    0.2   ]\n",
      " [0.7125 0.7125 0.2    0.2   ]\n",
      " [0.7375 0.7125 0.2    0.2   ]\n",
      " [0.7625 0.7125 0.2    0.2   ]\n",
      " [0.6875 0.7375 0.2    0.2   ]\n",
      " [0.7125 0.7375 0.2    0.2   ]\n",
      " [0.7375 0.7375 0.2    0.2   ]\n",
      " [0.7625 0.7375 0.2    0.2   ]\n",
      " [0.6875 0.7625 0.2    0.2   ]\n",
      " [0.7125 0.7625 0.2    0.2   ]\n",
      " [0.7375 0.7625 0.2    0.2   ]\n",
      " [0.7625 0.7625 0.2    0.2   ]\n",
      " [0.7125 0.7875 0.2    0.2   ]\n",
      " [0.7375 0.7875 0.2    0.2   ]]\n"
     ]
    }
   ],
   "source": [
    "anch_p = anchors.reshape((-1,4))[predicted_obj>0.99]\n",
    "print(anch_p)"
   ]
  },
  {
   "cell_type": "code",
   "execution_count": 17,
   "metadata": {},
   "outputs": [
    {
     "name": "stdout",
     "output_type": "stream",
     "text": [
      "[[ 0.0615868   0.12857804 -0.2077997  -0.15699361]\n",
      " [-0.03558718  0.13749148 -0.22413571 -0.1546398 ]\n",
      " [-0.11052547  0.11570206 -0.19743644 -0.11681629]\n",
      " [ 0.1678029   0.03720134 -0.21890743 -0.19481221]\n",
      " [ 0.06742286  0.03680661 -0.22135548 -0.20188239]\n",
      " [-0.05042017  0.04862282 -0.2076251  -0.2010522 ]\n",
      " [-0.11827777  0.04527889 -0.21724008 -0.18805106]\n",
      " [ 0.15106171 -0.07368108 -0.21969986 -0.20754714]\n",
      " [ 0.05666928 -0.06984803 -0.21777345 -0.19952959]\n",
      " [-0.04637773 -0.06441736 -0.21230124 -0.19920008]\n",
      " [-0.12437773 -0.07098728 -0.23139313 -0.19609542]\n",
      " [ 0.03769497 -0.1869265  -0.20557316 -0.16887046]\n",
      " [-0.04029995 -0.17728853 -0.21725181 -0.16792281]\n",
      " [ 0.0615868   0.12857804 -0.2077997  -0.15699361]\n",
      " [-0.03558718  0.13749148 -0.22413571 -0.1546398 ]\n",
      " [-0.11052547  0.11570206 -0.19743644 -0.11681629]\n",
      " [ 0.1678029   0.03720134 -0.21890743 -0.19481221]\n",
      " [ 0.06742286  0.03680661 -0.22135548 -0.20188239]\n",
      " [-0.05042017  0.04862282 -0.2076251  -0.2010522 ]\n",
      " [-0.11827777  0.04527889 -0.21724008 -0.18805106]\n",
      " [ 0.15106171 -0.07368108 -0.21969986 -0.20754714]\n",
      " [ 0.05666928 -0.06984803 -0.21777345 -0.19952959]\n",
      " [-0.04637773 -0.06441736 -0.21230124 -0.19920008]\n",
      " [-0.12437773 -0.07098728 -0.23139313 -0.19609542]\n",
      " [ 0.03769497 -0.1869265  -0.20557316 -0.16887046]\n",
      " [-0.04029995 -0.17728853 -0.21725181 -0.16792281]]\n"
     ]
    }
   ],
   "source": [
    "bp = predicted_boxes[predicted_obj>0.99]\n",
    "print(bp)"
   ]
  },
  {
   "cell_type": "code",
   "execution_count": 18,
   "metadata": {},
   "outputs": [
    {
     "name": "stdout",
     "output_type": "stream",
     "text": [
      "[[ 0.00434534  0.1875     -0.16206533 -0.16791834]\n",
      " [-0.12065466  0.1875     -0.16206533 -0.16791834]\n",
      " [-0.24565466  0.1875     -0.16206533 -0.16791834]\n",
      " [ 0.12934534  0.0625     -0.16206533 -0.16791834]\n",
      " [ 0.00434534  0.0625     -0.16206533 -0.16791834]\n",
      " [-0.12065466  0.0625     -0.16206533 -0.16791834]\n",
      " [-0.24565466  0.0625     -0.16206533 -0.16791834]\n",
      " [ 0.12934534 -0.0625     -0.16206533 -0.16791834]\n",
      " [ 0.00434534 -0.0625     -0.16206533 -0.16791834]\n",
      " [-0.12065466 -0.0625     -0.16206533 -0.16791834]\n",
      " [-0.24565466 -0.0625     -0.16206533 -0.16791834]\n",
      " [ 0.00434534 -0.1875     -0.16206533 -0.16791834]\n",
      " [-0.12065466 -0.1875     -0.16206533 -0.16791834]\n",
      " [ 0.08645217  0.1875     -0.24589343 -0.18250106]\n",
      " [-0.03854783  0.1875     -0.24589343 -0.18250106]\n",
      " [-0.16354783  0.1875     -0.24589343 -0.18250106]\n",
      " [ 0.21145217  0.0625     -0.24589343 -0.18250106]\n",
      " [ 0.08645217  0.0625     -0.24589343 -0.18250106]\n",
      " [-0.03854783  0.0625     -0.24589343 -0.18250106]\n",
      " [-0.16354783  0.0625     -0.24589343 -0.18250106]\n",
      " [ 0.21145217 -0.0625     -0.24589343 -0.18250106]\n",
      " [ 0.08645217 -0.0625     -0.24589343 -0.18250106]\n",
      " [-0.03854783 -0.0625     -0.24589343 -0.18250106]\n",
      " [-0.16354783 -0.0625     -0.24589343 -0.18250106]\n",
      " [ 0.08645217 -0.1875     -0.24589343 -0.18250106]\n",
      " [-0.03854783 -0.1875     -0.24589343 -0.18250106]]\n"
     ]
    }
   ],
   "source": [
    "gt_p = gt_t[predicted_obj>0.99]\n",
    "print(gt_p)"
   ]
  },
  {
   "cell_type": "code",
   "execution_count": 19,
   "metadata": {},
   "outputs": [
    {
     "name": "stdout",
     "output_type": "stream",
     "text": [
      "[[19.99269441  9.5286243   6.49895811  6.83767605]\n",
      " [20.21530256  9.59993184  6.39365339  6.85378981]\n",
      " [20.61579621  9.4256165   6.5666585   7.11798906]\n",
      " [19.8424232   9.7976107   6.42716885  6.58391333]\n",
      " [20.03938287  9.79445285  6.41145372  6.53752804]\n",
      " [20.09663865  9.88898256  6.50009251  6.54295778]\n",
      " [20.55377787  9.86223111  6.43789387  6.62857914]\n",
      " [19.70849371  9.91055137  6.42207766  6.50059938]\n",
      " [19.95335427  9.94121575  6.43446112  6.55292797]\n",
      " [20.12897813  9.9846611   6.46976852  6.55508757]\n",
      " [20.50497812  9.93210179  6.34741974  6.57547045]\n",
      " [19.80155978 10.00458801  6.51344442  6.75694656]\n",
      " [20.17760038 10.08169174  6.43781853  6.76335287]\n",
      " [28.99269441 29.5286243   6.49895811  6.83767605]\n",
      " [29.21530256 29.59993184  6.39365339  6.85378981]\n",
      " [29.61579621 29.4256165   6.5666585   7.11798906]\n",
      " [28.8424232  29.7976107   6.42716885  6.58391333]\n",
      " [29.03938287 29.79445285  6.41145372  6.53752804]\n",
      " [29.09663865 29.88898256  6.50009251  6.54295778]\n",
      " [29.55377787 29.86223111  6.43789387  6.62857914]\n",
      " [28.70849371 29.91055137  6.42207766  6.50059938]\n",
      " [28.95335427 29.94121575  6.43446112  6.55292797]\n",
      " [29.12897813 29.9846611   6.46976852  6.55508757]\n",
      " [29.50497812 29.93210179  6.34741974  6.57547045]\n",
      " [28.80155978 30.00458801  6.51344442  6.75694656]\n",
      " [29.17760038 30.08169174  6.43781853  6.76335287]]\n",
      "[[19.53476275 10.          6.80308516  6.76338293]\n",
      " [19.53476275 10.          6.80308516  6.76338293]\n",
      " [19.53476275 10.          6.80308516  6.76338293]\n",
      " [19.53476275 10.          6.80308516  6.76338293]\n",
      " [19.53476275 10.          6.80308516  6.76338293]\n",
      " [19.53476275 10.          6.80308516  6.76338293]\n",
      " [19.53476275 10.          6.80308516  6.76338293]\n",
      " [19.53476275 10.          6.80308516  6.76338293]\n",
      " [19.53476275 10.          6.80308516  6.76338293]\n",
      " [19.53476275 10.          6.80308516  6.76338293]\n",
      " [19.53476275 10.          6.80308516  6.76338293]\n",
      " [19.53476275 10.          6.80308516  6.76338293]\n",
      " [19.53476275 10.          6.80308516  6.76338293]\n",
      " [29.19161738 30.          6.25604446  6.66547007]\n",
      " [29.19161738 30.          6.25604446  6.66547007]\n",
      " [29.19161738 30.          6.25604446  6.66547007]\n",
      " [29.19161738 30.          6.25604446  6.66547007]\n",
      " [29.19161738 30.          6.25604446  6.66547007]\n",
      " [29.19161738 30.          6.25604446  6.66547007]\n",
      " [29.19161738 30.          6.25604446  6.66547007]\n",
      " [29.19161738 30.          6.25604446  6.66547007]\n",
      " [29.19161738 30.          6.25604446  6.66547007]\n",
      " [29.19161738 30.          6.25604446  6.66547007]\n",
      " [29.19161738 30.          6.25604446  6.66547007]\n",
      " [29.19161738 30.          6.25604446  6.66547007]\n",
      " [29.19161738 30.          6.25604446  6.66547007]]\n",
      "[[29.19161738 30.          6.25604446  6.66547007]\n",
      " [19.53476275 10.          6.80308516  6.76338293]]\n"
     ]
    }
   ],
   "source": [
    "bp_n = box.inv_bbox_transform(anch_p, bp)\n",
    "gt_n = box.inv_bbox_transform(anch_p, gt_p)\n",
    "print(bp_n*H)\n",
    "print(gt_n*H)\n",
    "print(gt_box*H)"
   ]
  },
  {
   "cell_type": "code",
   "execution_count": 20,
   "metadata": {},
   "outputs": [
    {
     "data": {
      "image/png": "[encoded data removed]",
      "text/plain": [
       "<Figure size 432x288 with 1 Axes>"
      ]
     },
     "metadata": {},
     "output_type": "display_data"
    }
   ],
   "source": [
    "# Create figure and axes\n",
    "fig,ax = plt.subplots(1)\n",
    "\n",
    "# Display the image\n",
    "ax.imshow(x[0,:,:,0])\n",
    "\n",
    "# Create a Rectangle patch\n",
    "for b in bp_n:\n",
    "    b_ = b*(H-1)\n",
    "    rect = patches.Rectangle((b_[0]-0.5,b_[1]-0.5),b_[2],b_[3],linewidth=1,\n",
    "                             edgecolor='r',facecolor='none')\n",
    "\n",
    "    # Add the patch to the Axes\n",
    "    ax.add_patch(rect)\n",
    "\n",
    "    # Create a Rectangle patch\n",
    "for b in gt_box:\n",
    "    b_ = b*(H-1)\n",
    "    rect = patches.Rectangle((b_[0]-0.5,b_[1]-0.5),b_[2],b_[3],linewidth=1,\n",
    "                             edgecolor='g',facecolor='none')\n",
    "\n",
    "    # Add the patch to the Axes\n",
    "    ax.add_patch(rect)\n",
    "    \n",
    "plt.show()"
   ]
  },
  {
   "cell_type": "code",
   "execution_count": null,
   "metadata": {},
   "outputs": [],
   "source": []
  },
  {
   "cell_type": "code",
   "execution_count": null,
   "metadata": {},
   "outputs": [],
   "source": []
  }
 ],
 "metadata": {
  "kernelspec": {
   "display_name": "Python 3",
   "language": "python",
   "name": "python3"
  },
  "language_info": {
   "codemirror_mode": {
    "name": "ipython",
    "version": 3
   },
   "file_extension": ".py",
   "mimetype": "text/x-python",
   "name": "python",
   "nbconvert_exporter": "python",
   "pygments_lexer": "ipython3",
   "version": "3.6.5"
  }
 },
 "nbformat": 4,
 "nbformat_minor": 2
}
