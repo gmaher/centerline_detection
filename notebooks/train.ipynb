{
 "cells": [
  {
   "cell_type": "code",
   "execution_count": 1,
   "metadata": {},
   "outputs": [],
   "source": [
    "import os\n",
    "import sys\n",
    "sys.path.append(os.path.abspath('..'))\n",
    "\n",
    "import warnings\n",
    "warnings.filterwarnings(\"ignore\")\n",
    "\n",
    "import numpy as np\n",
    "import matplotlib.pyplot as plt\n",
    "import modules.rcnn.net as net\n",
    "import modules.rcnn.shapes as shapes\n",
    "import modules.rcnn.box as box"
   ]
  },
  {
   "cell_type": "code",
   "execution_count": 2,
   "metadata": {},
   "outputs": [
    {
     "name": "stdout",
     "output_type": "stream",
     "text": [
      "[[0.40202926 0.875      0.13322032 0.115     ]\n",
      " [0.73265408 0.625      0.11185561 0.15874492]\n",
      " [0.36484609 0.375      0.13915342 0.23647031]\n",
      " [0.47517425 0.125      0.12871986 0.12871986]]\n",
      "[0. 0. 0. 2.]\n"
     ]
    }
   ],
   "source": [
    "H = 100\n",
    "W = 100\n",
    "h = H-1\n",
    "w = W-1\n",
    "\n",
    "n_min = 2\n",
    "n_max = 6\n",
    "\n",
    "x, shap = shapes.get_random_shapes(n_min,n_max,H,W)\n",
    "\n",
    "gt_box, gt_label = shapes.shapes_to_gt(shap)\n",
    "print(gt_box)\n",
    "print(gt_label)"
   ]
  },
  {
   "cell_type": "code",
   "execution_count": 4,
   "metadata": {},
   "outputs": [],
   "source": [
    "anchor_boxes = np.array([\n",
    "    [0.5,0.5],\n",
    "    [0.5,0.25],\n",
    "    [0.25,0.5],\n",
    "    [0.25,0.25],\n",
    "    [0.25,0.125],\n",
    "    [0.125,0.25],\n",
    "    [0.125,0.125]\n",
    "])\n",
    "\n",
    "K = anchor_boxes.shape[0]\n",
    "\n",
    "anchors = np.zeros((H,W,K,4))\n",
    "\n",
    "for i in range(H):\n",
    "    for j in range(W):\n",
    "        anchors[i,j,:,0] = (j+0.5)/W\n",
    "        anchors[i,j,:,1] = (i+0.5)/H\n",
    "        anchors[i,j,:,2] = anchor_boxes[:,0]\n",
    "        anchors[i,j,:,3] = anchor_boxes[:,1]\n",
    "        \n",
    "anchors_1d = anchors.reshape((-1,4))"
   ]
  },
  {
   "cell_type": "code",
   "execution_count": 5,
   "metadata": {},
   "outputs": [
    {
     "name": "stderr",
     "output_type": "stream",
     "text": [
      "WARNING: Logging before flag parsing goes to stderr.\n",
      "W0807 14:43:32.663795 140191974754048 image.py:663] Clipping input data to the valid range for imshow with RGB data ([0..1] for floats or [0..255] for integers).\n"
     ]
    },
    {
     "data": {
      "image/png": "[encoded data removed]",
      "text/plain": [
       "<Figure size 432x288 with 2 Axes>"
      ]
     },
     "metadata": {},
     "output_type": "display_data"
    }
   ],
   "source": [
    "plt.figure()\n",
    "plt.imshow(x)\n",
    "plt.colorbar()\n",
    "plt.show()"
   ]
  },
  {
   "cell_type": "code",
   "execution_count": 6,
   "metadata": {},
   "outputs": [
    {
     "name": "stdout",
     "output_type": "stream",
     "text": [
      "(70000, 4)\n",
      "(4, 4)\n",
      "(70000, 4)\n",
      "(70000, 4)\n",
      "(70000,)\n",
      "(70000,)\n"
     ]
    }
   ],
   "source": [
    "print(anchors_1d.shape)\n",
    "print(gt_box.shape)\n",
    "gt_t, gt_matched, gt_labels, gt_weights =\\\n",
    "    box.create_box_gt(anchors_1d, gt_box)\n",
    "\n",
    "print(gt_t.shape)\n",
    "print(gt_matched.shape)\n",
    "print(gt_labels.shape)\n",
    "print(gt_weights.shape)"
   ]
  },
  {
   "cell_type": "code",
   "execution_count": 7,
   "metadata": {},
   "outputs": [
    {
     "data": {
      "text/plain": [
       "67977.0"
      ]
     },
     "execution_count": 7,
     "metadata": {},
     "output_type": "execute_result"
    }
   ],
   "source": [
    "np.sum(gt_weights)"
   ]
  },
  {
   "cell_type": "code",
   "execution_count": null,
   "metadata": {},
   "outputs": [],
   "source": []
  }
 ],
 "metadata": {
  "kernelspec": {
   "display_name": "Python 3",
   "language": "python",
   "name": "python3"
  },
  "language_info": {
   "codemirror_mode": {
    "name": "ipython",
    "version": 3
   },
   "file_extension": ".py",
   "mimetype": "text/x-python",
   "name": "python",
   "nbconvert_exporter": "python",
   "pygments_lexer": "ipython3",
   "version": "3.6.5"
  }
 },
 "nbformat": 4,
 "nbformat_minor": 2
}
