{
 "cells": [
  {
   "cell_type": "code",
   "execution_count": 1,
   "metadata": {},
   "outputs": [],
   "source": [
    "import os\n",
    "import sys\n",
    "sys.path.append(os.path.abspath('..'))\n",
    "\n",
    "import warnings\n",
    "warnings.filterwarnings(\"ignore\")\n",
    "\n",
    "import tensorflow as tf\n",
    "\n",
    "import numpy as np\n",
    "import matplotlib.pyplot as plt\n",
    "import modules.rcnn.net as net\n",
    "import modules.rcnn.shapes as shapes\n",
    "import modules.rcnn.box as box"
   ]
  },
  {
   "cell_type": "code",
   "execution_count": 2,
   "metadata": {},
   "outputs": [
    {
     "name": "stdout",
     "output_type": "stream",
     "text": [
      "[[0.65456202 0.75       0.1946999  0.24      ]\n",
      " [0.42831071 0.25       0.19841032 0.42627298]]\n",
      "[0. 0.]\n"
     ]
    }
   ],
   "source": [
    "H = 100\n",
    "W = 100\n",
    "h = H-1\n",
    "w = W-1\n",
    "\n",
    "n_min = 2\n",
    "n_max = 6\n",
    "\n",
    "x, shap = shapes.get_random_shapes(n_min,n_max,H,W)\n",
    "\n",
    "gt_box, gt_label = shapes.shapes_to_gt(shap)\n",
    "print(gt_box)\n",
    "print(gt_label)"
   ]
  },
  {
   "cell_type": "code",
   "execution_count": 3,
   "metadata": {},
   "outputs": [],
   "source": [
    "anchor_boxes = np.array([\n",
    "    [0.5,0.5],\n",
    "    [0.5,0.25],\n",
    "    [0.25,0.5],\n",
    "    [0.25,0.25],\n",
    "    [0.25,0.125],\n",
    "    [0.125,0.25],\n",
    "    [0.125,0.125]\n",
    "])\n",
    "\n",
    "K = anchor_boxes.shape[0]\n",
    "\n",
    "anchors = np.zeros((H,W,K,4))\n",
    "\n",
    "for i in range(H):\n",
    "    for j in range(W):\n",
    "        anchors[i,j,:,0] = (j+0.5)/W\n",
    "        anchors[i,j,:,1] = (i+0.5)/H\n",
    "        anchors[i,j,:,2] = anchor_boxes[:,0]\n",
    "        anchors[i,j,:,3] = anchor_boxes[:,1]\n",
    "        \n",
    "anchors_1d = anchors.reshape((-1,4))"
   ]
  },
  {
   "cell_type": "code",
   "execution_count": 4,
   "metadata": {},
   "outputs": [
    {
     "name": "stderr",
     "output_type": "stream",
     "text": [
      "WARNING: Logging before flag parsing goes to stderr.\n",
      "W0808 11:46:32.385894 139731263833856 image.py:663] Clipping input data to the valid range for imshow with RGB data ([0..1] for floats or [0..255] for integers).\n"
     ]
    },
    {
     "data": {
      "image/png": "[encoded data removed]",
      "text/plain": [
       "<Figure size 432x288 with 2 Axes>"
      ]
     },
     "metadata": {},
     "output_type": "display_data"
    }
   ],
   "source": [
    "plt.figure()\n",
    "plt.imshow(x)\n",
    "plt.colorbar()\n",
    "plt.show()"
   ]
  },
  {
   "cell_type": "code",
   "execution_count": 5,
   "metadata": {},
   "outputs": [],
   "source": [
    "Ntrain = 1000\n",
    "lr     = 0.01"
   ]
  },
  {
   "cell_type": "code",
   "execution_count": 6,
   "metadata": {},
   "outputs": [
    {
     "name": "stderr",
     "output_type": "stream",
     "text": [
      "W0808 11:46:33.059242 139731263833856 lazy_loader.py:50] \n",
      "The TensorFlow contrib module will not be included in TensorFlow 2.0.\n",
      "For more information, please see:\n",
      "  * https://github.com/tensorflow/community/blob/master/rfcs/20180907-contrib-sunset.md\n",
      "  * https://github.com/tensorflow/addons\n",
      "  * https://github.com/tensorflow/io (for I/O related ops)\n",
      "If you depend on functionality not listed there, please file an issue.\n",
      "\n",
      "W0808 11:46:33.061275 139731263833856 deprecation_wrapper.py:119] From /home/marsdenlab/projects/centerline_detection/modules/rcnn/net.py:13: The name tf.variable_scope is deprecated. Please use tf.compat.v1.variable_scope instead.\n",
      "\n",
      "W0808 11:46:33.062340 139731263833856 deprecation_wrapper.py:119] From /home/marsdenlab/projects/centerline_detection/modules/layers_new.py:35: The name tf.random_normal is deprecated. Please use tf.random.normal instead.\n",
      "\n"
     ]
    },
    {
     "name": "stdout",
     "output_type": "stream",
     "text": [
      "Tensor(\"Reshape:0\", shape=(1, 100, 100, 7, 4), dtype=float32)\n",
      "Tensor(\"object_conv/Sigmoid:0\", shape=(1, 100, 100, 7), dtype=float32)\n",
      "Tensor(\"Reshape_1:0\", shape=(70000, 4), dtype=float32)\n",
      "Tensor(\"Reshape_2:0\", shape=(70000,), dtype=float32)\n"
     ]
    }
   ],
   "source": [
    "x_tf       = tf.placeholder(shape=[1,H,W,3], dtype=tf.float32)\n",
    "y_box_tf   = tf.placeholder(shape=[H*W*K,4], dtype=tf.float32)\n",
    "y_label_tf = tf.placeholder(shape=[H*W*K], dtype=tf.float32)\n",
    "y_weights_tf = tf.placeholder(shape=[H*W*K])\n",
    "\n",
    "backbone = net.Backbone(input_channels=3, output_size=64)\n",
    "rpn      = net.RPN(backbone, num_boxes=K, backbone_channels=64, \n",
    "                   window_size=30, hidden_size=256)\n",
    "\n",
    "rpn_obj_logits, rpn_obj, rpn_box = rpn(x_tf)\n",
    "\n",
    "list_box        = tf.reshape(rpn_box, shape=[-1,4])\n",
    "list_obj_logits = tf.reshape(rpn_obj_logits, shape=[-1])\n",
    "list_obj        = tf.reshape(rpn_obj, shape=[-1])\n",
    "\n",
    "loss_class = tf.nn.sigmoid_cross_entropy(labels=y_labels_tf, \n",
    "                                         logits=list_obj_logits)\n",
    "loss_box   = list_obj*(tf.square(list_box - y_box_tf))"
   ]
  },
  {
   "cell_type": "code",
   "execution_count": null,
   "metadata": {},
   "outputs": [],
   "source": [
    "for i in range(Ntrain):\n",
    "    \n",
    "    x, shap = shapes.get_random_shapes(n_min,n_max,H,W)\n",
    "    \n",
    "    gt_t, gt_matched, gt_labels, gt_weights =\\\n",
    "    box.create_box_gt(anchors_1d, gt_box)\n",
    "    \n",
    "    x = x.reshape((1,H,W,1))\n",
    "    \n",
    "    #model.train(x,gt_t,gt_labels,gt_weights)"
   ]
  },
  {
   "cell_type": "code",
   "execution_count": null,
   "metadata": {},
   "outputs": [],
   "source": []
  }
 ],
 "metadata": {
  "kernelspec": {
   "display_name": "Python 3",
   "language": "python",
   "name": "python3"
  },
  "language_info": {
   "codemirror_mode": {
    "name": "ipython",
    "version": 3
   },
   "file_extension": ".py",
   "mimetype": "text/x-python",
   "name": "python",
   "nbconvert_exporter": "python",
   "pygments_lexer": "ipython3",
   "version": "3.6.5"
  }
 },
 "nbformat": 4,
 "nbformat_minor": 2
}
