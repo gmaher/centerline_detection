{
 "cells": [
  {
   "cell_type": "code",
   "execution_count": 1,
   "metadata": {},
   "outputs": [],
   "source": [
    "import os\n",
    "import sys\n",
    "sys.path.append(os.path.abspath('..'))\n",
    "\n",
    "import warnings\n",
    "warnings.filterwarnings(\"ignore\")\n",
    "\n",
    "import tensorflow as tf\n",
    "\n",
    "import numpy as np\n",
    "import matplotlib.pyplot as plt\n",
    "import modules.rcnn.net as net\n",
    "import modules.rcnn.shapes as shapes\n",
    "import modules.rcnn.box as box\n",
    "\n",
    "import matplotlib.patches as patches"
   ]
  },
  {
   "cell_type": "code",
   "execution_count": 2,
   "metadata": {},
   "outputs": [
    {
     "name": "stdout",
     "output_type": "stream",
     "text": [
      "[[0.26793101 0.83333333 0.15666667 0.15666667]\n",
      " [0.22997769 0.5        0.31467759 0.31467759]\n",
      " [0.63902533 0.16666667 0.25964411 0.25964411]]\n",
      "[2. 2. 2.]\n"
     ]
    }
   ],
   "source": [
    "H = 40\n",
    "W = 40\n",
    "h = H-1\n",
    "w = W-1\n",
    "\n",
    "n_min = 2\n",
    "n_max = 5\n",
    "\n",
    "x, shap = shapes.get_random_shapes(n_min,n_max,H,W)\n",
    "\n",
    "gt_box, gt_label = shapes.shapes_to_gt(shap)\n",
    "print(gt_box)\n",
    "print(gt_label)"
   ]
  },
  {
   "cell_type": "code",
   "execution_count": 3,
   "metadata": {},
   "outputs": [],
   "source": [
    "anchor_boxes = np.array([\n",
    "    [0.3,0.3],\n",
    "    [0.2,0.2],\n",
    "    [0.1,0.1],\n",
    "    [0.05,0.05],\n",
    "])\n",
    "\n",
    "K = anchor_boxes.shape[0]\n",
    "\n",
    "anchors = np.zeros((H,W,K,4))\n",
    "\n",
    "for i in range(H):\n",
    "    for j in range(W):\n",
    "        anchors[i,j,:,0] = j/(W-1)\n",
    "        anchors[i,j,:,1] = i/(H-1)\n",
    "        anchors[i,j,:,2] = anchor_boxes[:,0]\n",
    "        anchors[i,j,:,3] = anchor_boxes[:,1]\n",
    "        \n",
    "anchors_1d = anchors.reshape((-1,4))"
   ]
  },
  {
   "cell_type": "code",
   "execution_count": 4,
   "metadata": {},
   "outputs": [
    {
     "data": {
      "image/png": "[encoded data removed]",
      "text/plain": [
       "<Figure size 432x288 with 2 Axes>"
      ]
     },
     "metadata": {},
     "output_type": "display_data"
    }
   ],
   "source": [
    "plt.figure()\n",
    "plt.imshow(x)\n",
    "plt.colorbar()\n",
    "plt.show()"
   ]
  },
  {
   "cell_type": "code",
   "execution_count": 5,
   "metadata": {},
   "outputs": [],
   "source": [
    "Ntrain     = 10000\n",
    "lr         = 0.0001\n",
    "print_step = 1000"
   ]
  },
  {
   "cell_type": "code",
   "execution_count": 6,
   "metadata": {},
   "outputs": [
    {
     "name": "stderr",
     "output_type": "stream",
     "text": [
      "WARNING: Logging before flag parsing goes to stderr.\n",
      "W0813 13:23:46.616261 140713121179392 lazy_loader.py:50] \n",
      "The TensorFlow contrib module will not be included in TensorFlow 2.0.\n",
      "For more information, please see:\n",
      "  * https://github.com/tensorflow/community/blob/master/rfcs/20180907-contrib-sunset.md\n",
      "  * https://github.com/tensorflow/addons\n",
      "  * https://github.com/tensorflow/io (for I/O related ops)\n",
      "If you depend on functionality not listed there, please file an issue.\n",
      "\n",
      "W0813 13:23:46.618005 140713121179392 deprecation_wrapper.py:119] From /home/marsdenlab/projects/centerline_detection/modules/rcnn/net.py:13: The name tf.variable_scope is deprecated. Please use tf.compat.v1.variable_scope instead.\n",
      "\n",
      "W0813 13:23:46.618655 140713121179392 deprecation_wrapper.py:119] From /home/marsdenlab/projects/centerline_detection/modules/layers_new.py:35: The name tf.random_normal is deprecated. Please use tf.random.normal instead.\n",
      "\n",
      "W0813 13:23:46.683941 140713121179392 deprecation.py:323] From /home/marsdenlab/anaconda3/lib/python3.6/site-packages/tensorflow/python/ops/nn_impl.py:180: add_dispatch_support.<locals>.wrapper (from tensorflow.python.ops.array_ops) is deprecated and will be removed in a future version.\n",
      "Instructions for updating:\n",
      "Use tf.where in 2.0, which has the same broadcast rule as np.where\n"
     ]
    },
    {
     "name": "stdout",
     "output_type": "stream",
     "text": [
      "Tensor(\"Sum:0\", shape=(), dtype=float32) Tensor(\"mul_3:0\", shape=(), dtype=float32) Tensor(\"add:0\", shape=(), dtype=float32)\n"
     ]
    }
   ],
   "source": [
    "x_tf       = tf.placeholder(shape=[1,H,W,1], dtype=tf.float32)\n",
    "y_box_tf   = tf.placeholder(shape=[H*W*K,4], dtype=tf.float32)\n",
    "y_label_tf = tf.placeholder(shape=[H*W*K], dtype=tf.float32)\n",
    "y_weights_tf = tf.placeholder(shape=[H*W*K], dtype=tf.float32)\n",
    "\n",
    "backbone = net.Backbone(input_channels=1, output_size=64)\n",
    "rpn      = net.RPN(backbone, num_boxes=K, backbone_channels=64, \n",
    "                   window_size=10, hidden_size=256)\n",
    "\n",
    "rpn_obj_logits, rpn_obj, rpn_box = rpn(x_tf)\n",
    "\n",
    "list_box        = tf.reshape(rpn_box, shape=[-1,4])\n",
    "list_obj_logits = tf.reshape(rpn_obj_logits, shape=[-1])\n",
    "list_obj        = tf.reshape(rpn_obj, shape=[-1])\n",
    "\n",
    "loss_class = tf.reduce_sum(y_weights_tf*tf.nn.sigmoid_cross_entropy_with_logits(labels=y_label_tf, \n",
    "                                         logits=list_obj_logits))\n",
    "\n",
    "loss_box   = 10*tf.reduce_sum(y_weights_tf*y_label_tf*(tf.reduce_sum(tf.square(list_box - y_box_tf), axis=1)))\n",
    "\n",
    "lab_sum = tf.reduce_sum(y_label_tf)\n",
    "\n",
    "loss = loss_class+loss_box\n",
    "\n",
    "print(loss_class, loss_box, loss)"
   ]
  },
  {
   "cell_type": "code",
   "execution_count": 7,
   "metadata": {},
   "outputs": [],
   "source": [
    "opt = tf.train.AdamOptimizer(lr)\n",
    "train_op = opt.minimize(loss)"
   ]
  },
  {
   "cell_type": "code",
   "execution_count": 8,
   "metadata": {},
   "outputs": [],
   "source": [
    "sess = tf.Session()\n",
    "sess.run(tf.global_variables_initializer())"
   ]
  },
  {
   "cell_type": "code",
   "execution_count": 9,
   "metadata": {},
   "outputs": [
    {
     "name": "stdout",
     "output_type": "stream",
     "text": [
      "iteration 0: loss=4330.824 loss_class=4321.000 loss_box=9.82446, lab_sum=12.000\n",
      "iteration 1000: loss=29.596 loss_class=26.889 loss_box=2.70606, lab_sum=15.000\n",
      "iteration 2000: loss=7.115 loss_class=3.926 loss_box=3.18881, lab_sum=12.000\n",
      "iteration 3000: loss=4.697 loss_class=2.726 loss_box=1.97034, lab_sum=25.000\n",
      "iteration 4000: loss=3.248 loss_class=1.577 loss_box=1.67066, lab_sum=18.000\n",
      "iteration 5000: loss=0.775 loss_class=0.233 loss_box=0.54230, lab_sum=12.000\n",
      "iteration 6000: loss=1.125 loss_class=0.145 loss_box=0.98014, lab_sum=16.000\n",
      "iteration 7000: loss=8.165 loss_class=4.925 loss_box=3.24046, lab_sum=17.000\n",
      "iteration 8000: loss=7.940 loss_class=1.662 loss_box=6.27844, lab_sum=22.000\n",
      "iteration 9000: loss=9.584 loss_class=9.021 loss_box=0.56367, lab_sum=17.000\n"
     ]
    }
   ],
   "source": [
    "for i in range(Ntrain):\n",
    "    \n",
    "    x, shap = shapes.get_random_shapes(n_min,n_max,H,W)\n",
    "    \n",
    "    gt_box, gt_label = shapes.shapes_to_gt(shap)\n",
    "    \n",
    "    gt_t, gt_matched, gt_labels, gt_weights =\\\n",
    "    box.create_box_gt(anchors_1d, gt_box)\n",
    "    \n",
    "    x = x.reshape((1,H,W,1))\n",
    "    \n",
    "    sess.run(train_op, {x_tf:x, y_box_tf:gt_t, y_label_tf:gt_labels, y_weights_tf:gt_weights})\n",
    "    \n",
    "    if i%print_step == 0:\n",
    "        l,lc,lb,ls = sess.run([loss, loss_class, loss_box, lab_sum], {x_tf:x, y_box_tf:gt_t, y_label_tf:gt_labels, y_weights_tf:gt_weights})\n",
    "        \n",
    "        print(\"iteration {}: loss={:.3f} loss_class={:.3f} loss_box={:.5f}, lab_sum={:.3f}\".format(i,l, lc, lb, ls))"
   ]
  },
  {
   "cell_type": "code",
   "execution_count": 10,
   "metadata": {},
   "outputs": [],
   "source": [
    "x, shap = shapes.get_random_shapes(n_min,n_max,H,W)\n",
    "\n",
    "gt_box, gt_label = shapes.shapes_to_gt(shap)\n",
    "\n",
    "gt_t, gt_matched, gt_labels, gt_weights =\\\n",
    "box.create_box_gt(anchors_1d, gt_box)\n",
    "\n",
    "x = x.reshape((1,H,W,1))\n",
    "\n",
    "out_box, l_box, out_obj = sess.run([rpn_box, list_box, rpn_obj], {x_tf:x})"
   ]
  },
  {
   "cell_type": "code",
   "execution_count": 11,
   "metadata": {
    "scrolled": false
   },
   "outputs": [
    {
     "data": {
      "image/png": "[encoded data removed]",
      "text/plain": [
       "<Figure size 432x288 with 1 Axes>"
      ]
     },
     "metadata": {},
     "output_type": "display_data"
    },
    {
     "name": "stdout",
     "output_type": "stream",
     "text": [
      "0\n"
     ]
    },
    {
     "data": {
      "image/png": "[encoded data removed]",
      "text/plain": [
       "<Figure size 432x288 with 2 Axes>"
      ]
     },
     "metadata": {},
     "output_type": "display_data"
    },
    {
     "data": {
      "image/png": "[encoded data removed]",
      "text/plain": [
       "<Figure size 432x288 with 2 Axes>"
      ]
     },
     "metadata": {},
     "output_type": "display_data"
    },
    {
     "name": "stdout",
     "output_type": "stream",
     "text": [
      "1\n"
     ]
    },
    {
     "data": {
      "image/png": "[encoded data removed]",
      "text/plain": [
       "<Figure size 432x288 with 2 Axes>"
      ]
     },
     "metadata": {},
     "output_type": "display_data"
    },
    {
     "data": {
      "image/png": "[encoded data removed]",
      "text/plain": [
       "<Figure size 432x288 with 2 Axes>"
      ]
     },
     "metadata": {},
     "output_type": "display_data"
    },
    {
     "name": "stdout",
     "output_type": "stream",
     "text": [
      "2\n"
     ]
    },
    {
     "data": {
      "image/png": "[encoded data removed]",
      "text/plain": [
       "<Figure size 432x288 with 2 Axes>"
      ]
     },
     "metadata": {},
     "output_type": "display_data"
    },
    {
     "data": {
      "image/png": "[encoded data removed]",
      "text/plain": [
       "<Figure size 432x288 with 2 Axes>"
      ]
     },
     "metadata": {},
     "output_type": "display_data"
    },
    {
     "name": "stdout",
     "output_type": "stream",
     "text": [
      "3\n"
     ]
    },
    {
     "data": {
      "image/png": "[encoded data removed]",
      "text/plain": [
       "<Figure size 432x288 with 2 Axes>"
      ]
     },
     "metadata": {},
     "output_type": "display_data"
    },
    {
     "data": {
      "image/png": "[encoded data removed]",
      "text/plain": [
       "<Figure size 432x288 with 2 Axes>"
      ]
     },
     "metadata": {},
     "output_type": "display_data"
    },
    {
     "name": "stdout",
     "output_type": "stream",
     "text": [
      "weights\n",
      "0\n"
     ]
    },
    {
     "data": {
      "image/png": "[encoded data removed]",
      "text/plain": [
       "<Figure size 432x288 with 2 Axes>"
      ]
     },
     "metadata": {},
     "output_type": "display_data"
    },
    {
     "name": "stdout",
     "output_type": "stream",
     "text": [
      "1\n"
     ]
    },
    {
     "data": {
      "image/png": "[encoded data removed]",
      "text/plain": [
       "<Figure size 432x288 with 2 Axes>"
      ]
     },
     "metadata": {},
     "output_type": "display_data"
    },
    {
     "name": "stdout",
     "output_type": "stream",
     "text": [
      "2\n"
     ]
    },
    {
     "data": {
      "image/png": "[encoded data removed]",
      "text/plain": [
       "<Figure size 432x288 with 2 Axes>"
      ]
     },
     "metadata": {},
     "output_type": "display_data"
    },
    {
     "name": "stdout",
     "output_type": "stream",
     "text": [
      "3\n"
     ]
    },
    {
     "data": {
      "image/png": "[encoded data removed]",
      "text/plain": [
       "<Figure size 432x288 with 2 Axes>"
      ]
     },
     "metadata": {},
     "output_type": "display_data"
    }
   ],
   "source": [
    "lab = gt_labels.reshape((H,W,K))\n",
    "weights = gt_weights.reshape((H,W,K))\n",
    "\n",
    "plt.figure()\n",
    "plt.imshow(x[0,:,:,0])\n",
    "plt.show()\n",
    "\n",
    "for i in range(K):\n",
    "    print(i)\n",
    "    plt.figure()\n",
    "    plt.imshow(out_obj[0,:,:,i], cmap='gray')\n",
    "    plt.colorbar()\n",
    "    plt.show()\n",
    "    \n",
    "    plt.figure()\n",
    "    plt.imshow(lab[:,:,i], cmap='gray')\n",
    "    plt.colorbar()\n",
    "    plt.show()\n",
    "    \n",
    "print(\"weights\")\n",
    "for i in range(K):\n",
    "    print(i)\n",
    "    plt.figure()\n",
    "    plt.imshow(weights[:,:,i], cmap='gray')\n",
    "    plt.colorbar()\n",
    "    plt.show()"
   ]
  },
  {
   "cell_type": "code",
   "execution_count": 12,
   "metadata": {},
   "outputs": [],
   "source": [
    "predicted_boxes, predicted_obj = sess.run([list_box, list_obj],{x_tf:x})"
   ]
  },
  {
   "cell_type": "code",
   "execution_count": 13,
   "metadata": {},
   "outputs": [
    {
     "name": "stdout",
     "output_type": "stream",
     "text": [
      "[[0.20512821 0.15384615 0.2        0.2       ]\n",
      " [0.23076923 0.15384615 0.2        0.2       ]\n",
      " [0.25641026 0.15384615 0.2        0.2       ]\n",
      " [0.20512821 0.17948718 0.2        0.2       ]\n",
      " [0.23076923 0.17948718 0.2        0.2       ]\n",
      " [0.25641026 0.17948718 0.2        0.2       ]\n",
      " [0.20512821 0.20512821 0.2        0.2       ]\n",
      " [0.23076923 0.20512821 0.2        0.2       ]\n",
      " [0.28205128 0.48717949 0.1        0.1       ]\n",
      " [0.30769231 0.48717949 0.1        0.1       ]\n",
      " [0.28205128 0.51282051 0.1        0.1       ]\n",
      " [0.30769231 0.51282051 0.1        0.1       ]\n",
      " [0.30769231 0.84615385 0.1        0.1       ]\n",
      " [0.33333333 0.84615385 0.1        0.1       ]]\n"
     ]
    }
   ],
   "source": [
    "anch_p = anchors.reshape((-1,4))[predicted_obj>0.99]\n",
    "print(anch_p)"
   ]
  },
  {
   "cell_type": "code",
   "execution_count": 14,
   "metadata": {},
   "outputs": [
    {
     "name": "stdout",
     "output_type": "stream",
     "text": [
      "[[ 0.02596497  0.05782681 -0.03624071  0.07533004]\n",
      " [-0.09437054  0.05524185 -0.03078667  0.07331864]\n",
      " [-0.19284506  0.05729319 -0.01673192  0.07062291]\n",
      " [ 0.02671846 -0.06588132 -0.03946112  0.07217167]\n",
      " [-0.0981888  -0.06920724 -0.02219281  0.06860425]\n",
      " [-0.19345635 -0.06967504 -0.02674736  0.05123118]\n",
      " [ 0.01207187 -0.19426939 -0.03169219  0.05777621]\n",
      " [-0.08918183 -0.18967468 -0.0268136   0.05072532]\n",
      " [ 0.05905858  0.06974055  0.15307543  0.16953304]\n",
      " [-0.08735611  0.08000697  0.14931601  0.16647404]\n",
      " [ 0.06635688 -0.11370578  0.16106239  0.18039037]\n",
      " [-0.06914469 -0.11670826  0.1568983   0.19467811]\n",
      " [ 0.04618843 -0.13035181  0.2178738   0.2554819 ]\n",
      " [-0.09004178 -0.10538092  0.22414479  0.26218665]]\n"
     ]
    }
   ],
   "source": [
    "bp = predicted_boxes[predicted_obj>0.99]\n",
    "print(bp)"
   ]
  },
  {
   "cell_type": "code",
   "execution_count": 15,
   "metadata": {},
   "outputs": [
    {
     "name": "stdout",
     "output_type": "stream",
     "text": [
      "[[ 0.01768966  0.06410256 -0.12511751  0.03800001]\n",
      " [-0.11051547  0.06410256 -0.12511751  0.03800001]\n",
      " [-0.2387206   0.06410256 -0.12511751  0.03800001]\n",
      " [ 0.01768966 -0.06410256 -0.12511751  0.03800001]\n",
      " [-0.11051547 -0.06410256 -0.12511751  0.03800001]\n",
      " [-0.2387206  -0.06410256 -0.12511751  0.03800001]\n",
      " [ 0.01768966 -0.19230769 -0.12511751  0.03800001]\n",
      " [-0.11051547 -0.19230769 -0.12511751  0.03800001]\n",
      " [ 0.14305684  0.12820513  0.11981304  0.11981304]\n",
      " [-0.11335341  0.12820513  0.11981304  0.11981304]\n",
      " [ 0.14305684 -0.12820513  0.11981304  0.11981304]\n",
      " [-0.11335341 -0.12820513  0.11981304  0.11981304]\n",
      " [ 0.09855406 -0.12820513  0.24834546  0.24834546]\n",
      " [-0.15785619 -0.12820513  0.24834546  0.24834546]]\n"
     ]
    }
   ],
   "source": [
    "gt_p = gt_t[predicted_obj>0.99]\n",
    "print(gt_p)"
   ]
  },
  {
   "cell_type": "code",
   "execution_count": 16,
   "metadata": {},
   "outputs": [
    {
     "name": "stdout",
     "output_type": "stream",
     "text": [
      "[[ 8.41284795  6.61646063  7.7152648   8.62591934]\n",
      " [ 8.47580488  6.59578092  7.75745916  8.60858727]\n",
      " [ 8.71364977  6.61219169  7.86725807  8.58541203]\n",
      " [ 8.41887589  6.65243662  7.69045877  8.59871864]\n",
      " [ 8.44525887  6.62582929  7.8244133   8.56809807]\n",
      " [ 8.70875944  6.62208689  7.78885746  8.42052937]\n",
      " [ 8.3017032   6.65097309  7.75043774  8.4758234 ]\n",
      " [ 8.51731457  6.6877308   7.78834152  8.41627121]\n",
      " [11.5182856  19.76614168  4.66165161  4.73900604]\n",
      " [11.95826786 19.80720738  4.64415932  4.72453165]\n",
      " [11.54747878 20.05799741  4.69903326  4.79073906]\n",
      " [12.03111355 20.04598749  4.67950678  4.85967922]\n",
      " [12.49244601 33.3247466   4.97372055  5.16433477]\n",
      " [12.97316622 33.42463019  5.0050087   5.19907665]]\n",
      "[[ 8.34664545  6.66666667  7.05914568  8.30984991]\n",
      " [ 8.34664545  6.66666667  7.05914568  8.30984991]\n",
      " [ 8.34664545  6.66666667  7.05914568  8.30984991]\n",
      " [ 8.34664545  6.66666667  7.05914568  8.30984991]\n",
      " [ 8.34664545  6.66666667  7.05914568  8.30984991]\n",
      " [ 8.34664545  6.66666667  7.05914568  8.30984991]\n",
      " [ 8.34664545  6.66666667  7.05914568  8.30984991]\n",
      " [ 8.34664545  6.66666667  7.05914568  8.30984991]\n",
      " [11.85427865 20.          4.50914432  4.50914432]\n",
      " [11.85427865 20.          4.50914432  4.50914432]\n",
      " [11.85427865 20.          4.50914432  4.50914432]\n",
      " [11.85427865 20.          4.50914432  4.50914432]\n",
      " [12.70190857 33.33333333  5.1276108   5.1276108 ]\n",
      " [12.70190857 33.33333333  5.1276108   5.1276108 ]]\n",
      "[[12.70190857 33.33333333  5.1276108   5.1276108 ]\n",
      " [11.85427865 20.          4.50914432  4.50914432]\n",
      " [ 8.34664545  6.66666667  7.05914568  8.30984991]]\n"
     ]
    }
   ],
   "source": [
    "bp_n = box.inv_bbox_transform(anch_p, bp)\n",
    "gt_n = box.inv_bbox_transform(anch_p, gt_p)\n",
    "print(bp_n*H)\n",
    "print(gt_n*H)\n",
    "print(gt_box*H)"
   ]
  },
  {
   "cell_type": "code",
   "execution_count": 19,
   "metadata": {},
   "outputs": [
    {
     "data": {
      "image/png": "[encoded data removed]",
      "text/plain": [
       "<Figure size 576x576 with 1 Axes>"
      ]
     },
     "metadata": {},
     "output_type": "display_data"
    }
   ],
   "source": [
    "# Create figure and axes\n",
    "fig,ax = plt.subplots(1, figsize=(8,8))\n",
    "\n",
    "# Display the image\n",
    "ax.imshow(x[0,:,:,0])\n",
    "\n",
    "# Create a Rectangle patch\n",
    "for b in bp_n:\n",
    "    rect = patches.Rectangle((b[0]*w-0.5,b[1]*h-0.5),b[2]*H,b[3]*H,linewidth=1,\n",
    "                             edgecolor='r',facecolor='none')\n",
    "\n",
    "    # Add the patch to the Axes\n",
    "    ax.add_patch(rect)\n",
    "\n",
    "    # Create a Rectangle patch\n",
    "for b in gt_box:\n",
    "    rect = patches.Rectangle((b[0]*w-0.5,b[1]*h-0.5),b[2]*H,b[3]*H,linewidth=1,\n",
    "                             edgecolor='g',facecolor='none')\n",
    "\n",
    "    # Add the patch to the Axes\n",
    "    ax.add_patch(rect)\n",
    "    \n",
    "plt.show()"
   ]
  },
  {
   "cell_type": "code",
   "execution_count": null,
   "metadata": {},
   "outputs": [],
   "source": []
  },
  {
   "cell_type": "code",
   "execution_count": null,
   "metadata": {},
   "outputs": [],
   "source": []
  }
 ],
 "metadata": {
  "kernelspec": {
   "display_name": "Python 3",
   "language": "python",
   "name": "python3"
  },
  "language_info": {
   "codemirror_mode": {
    "name": "ipython",
    "version": 3
   },
   "file_extension": ".py",
   "mimetype": "text/x-python",
   "name": "python",
   "nbconvert_exporter": "python",
   "pygments_lexer": "ipython3",
   "version": "3.6.5"
  }
 },
 "nbformat": 4,
 "nbformat_minor": 2
}
