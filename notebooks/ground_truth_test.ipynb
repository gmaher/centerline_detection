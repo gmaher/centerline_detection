{
 "cells": [
  {
   "cell_type": "code",
   "execution_count": 1,
   "metadata": {},
   "outputs": [],
   "source": [
    "import os\n",
    "import sys\n",
    "sys.path.append(os.path.abspath('..'))\n",
    "\n",
    "import numpy as np\n",
    "import matplotlib.pyplot as plt\n",
    "import modules.rcnn.box as box"
   ]
  },
  {
   "cell_type": "code",
   "execution_count": 4,
   "metadata": {},
   "outputs": [
    {
     "name": "stdout",
     "output_type": "stream",
     "text": [
      "[[100. 100. 100. 100.]\n",
      " [200. 200. 100. 100.]]\n",
      "[[0.25 0.25 0.25 0.25]\n",
      " [0.5  0.5  0.25 0.25]]\n",
      "[[0.1  0.1  0.1  0.1 ]\n",
      " [0.2  0.2  0.25 0.25]\n",
      " [0.5  0.5  0.1  0.1 ]\n",
      " [0.55 0.55 0.2  0.2 ]]\n"
     ]
    }
   ],
   "source": [
    "H = 400\n",
    "W = 400\n",
    "\n",
    "gt_box = np.array([\n",
    "    [0.25*W,0.25*H,0.25*W,0.25*H],\n",
    "    [0.5*W,0.5*H,0.25*W,0.25*H]\n",
    "])\n",
    "\n",
    "gt_scale = gt_box/H\n",
    "\n",
    "anchors = np.array([\n",
    "    [0.1,0.1,0.1,0.1],\n",
    "    [0.2,0.2,0.25,0.25],\n",
    "    [0.5,0.5,0.1,0.1],\n",
    "    [0.55,0.55,0.2,0.2],\n",
    "])\n",
    "\n",
    "print(gt_box)\n",
    "print(gt_scale)\n",
    "print(anchors)"
   ]
  },
  {
   "cell_type": "code",
   "execution_count": 5,
   "metadata": {},
   "outputs": [
    {
     "name": "stdout",
     "output_type": "stream",
     "text": [
      "(4, 2)\n",
      "[[0.00869565 0.        ]\n",
      " [0.47058824 0.        ]\n",
      " [0.         0.16      ]\n",
      " [0.         0.42608696]]\n"
     ]
    }
   ],
   "source": [
    "ious = box.iou(anchors,gt_scale)\n",
    "print(ious.shape)\n",
    "print(ious)"
   ]
  },
  {
   "cell_type": "code",
   "execution_count": null,
   "metadata": {},
   "outputs": [],
   "source": []
  }
 ],
 "metadata": {
  "kernelspec": {
   "display_name": "Python 3",
   "language": "python",
   "name": "python3"
  },
  "language_info": {
   "codemirror_mode": {
    "name": "ipython",
    "version": 3
   },
   "file_extension": ".py",
   "mimetype": "text/x-python",
   "name": "python",
   "nbconvert_exporter": "python",
   "pygments_lexer": "ipython3",
   "version": "3.6.5"
  }
 },
 "nbformat": 4,
 "nbformat_minor": 2
}
