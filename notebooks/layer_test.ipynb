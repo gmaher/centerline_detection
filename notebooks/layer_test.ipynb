{
 "cells": [
  {
   "cell_type": "code",
   "execution_count": 1,
   "metadata": {},
   "outputs": [
    {
     "name": "stderr",
     "output_type": "stream",
     "text": [
      "/home/marsdenlab/anaconda3/lib/python3.6/site-packages/h5py/__init__.py:36: FutureWarning: Conversion of the second argument of issubdtype from `float` to `np.floating` is deprecated. In future, it will be treated as `np.float64 == np.dtype(float).type`.\n",
      "  from ._conv import register_converters as _register_converters\n"
     ]
    }
   ],
   "source": [
    "import os\n",
    "import sys\n",
    "sys.path.append(os.path.abspath('..'))\n",
    "\n",
    "import numpy as np\n",
    "import tensorflow as tf\n",
    "import modules.layers_new as layers"
   ]
  },
  {
   "cell_type": "code",
   "execution_count": 2,
   "metadata": {},
   "outputs": [],
   "source": [
    "dims = [100,100]\n",
    "C    = 3"
   ]
  },
  {
   "cell_type": "code",
   "execution_count": 3,
   "metadata": {},
   "outputs": [],
   "source": [
    "x = tf.placeholder(shape=[None]+dims+[C], dtype=tf.float32)\n",
    "xv = tf.placeholder(shape=[None]+[dims[0]], dtype=tf.float32)"
   ]
  },
  {
   "cell_type": "code",
   "execution_count": 4,
   "metadata": {},
   "outputs": [],
   "source": [
    "conv = layers.Conv2D(s=dims+[C])"
   ]
  },
  {
   "cell_type": "code",
   "execution_count": 5,
   "metadata": {},
   "outputs": [
    {
     "name": "stdout",
     "output_type": "stream",
     "text": [
      "Tensor(\"conv2d_1/Identity:0\", shape=(?, 100, 100, 32), dtype=float32)\n"
     ]
    }
   ],
   "source": [
    "o = conv(x)\n",
    "print(o)"
   ]
  },
  {
   "cell_type": "code",
   "execution_count": 6,
   "metadata": {},
   "outputs": [
    {
     "name": "stdout",
     "output_type": "stream",
     "text": [
      "Tensor(\"fc_1/Identity:0\", shape=(?, 100), dtype=float32)\n"
     ]
    }
   ],
   "source": [
    "fc = layers.FullyConnected(dims[0])\n",
    "o_fc = fc(xv)\n",
    "print(o_fc)"
   ]
  },
  {
   "cell_type": "code",
   "execution_count": 7,
   "metadata": {},
   "outputs": [],
   "source": [
    "sess = tf.Session()\n",
    "sess.run(tf.global_variables_initializer())"
   ]
  },
  {
   "cell_type": "code",
   "execution_count": 8,
   "metadata": {},
   "outputs": [
    {
     "name": "stdout",
     "output_type": "stream",
     "text": [
      "(2, 100, 100, 32)\n"
     ]
    }
   ],
   "source": [
    "a = sess.run(o, {x: np.random.randn(2,dims[0],dims[1],C)})\n",
    "print(a.shape)"
   ]
  },
  {
   "cell_type": "code",
   "execution_count": 12,
   "metadata": {},
   "outputs": [
    {
     "name": "stdout",
     "output_type": "stream",
     "text": [
      "(10, 100)\n",
      "[0.00802757 0.01178055 0.01230691 0.00733044 0.01070176 0.01213654\n",
      " 0.0119156  0.00953081 0.0087409  0.00788942 0.00917051 0.00978772\n",
      " 0.01082175 0.00930817 0.0122871  0.0106043  0.00636792 0.00938332\n",
      " 0.00736775 0.0066959  0.00411171 0.00870283 0.01005911 0.01139001\n",
      " 0.0133253  0.00851047 0.00506924 0.00769806 0.00729559 0.00903386\n",
      " 0.00618715 0.00898443 0.0113519  0.00591753 0.00772889 0.00450795\n",
      " 0.0075868  0.01037728 0.00723944 0.01134507 0.01369372 0.00795884\n",
      " 0.00799005 0.00547399 0.01448283 0.0100533  0.0083761  0.00534812\n",
      " 0.00844679 0.01183027 0.00778995 0.00671262 0.00772923 0.00826294\n",
      " 0.00932113 0.00999689 0.00785964 0.01047653 0.01134968 0.00986579\n",
      " 0.00713531 0.00517656 0.008207   0.00639357 0.01018386 0.01098711\n",
      " 0.00798248 0.00738604 0.0076839  0.00961161 0.00729683 0.00822\n",
      " 0.00773819 0.00868396 0.01267675 0.00653028 0.01233618 0.00824991\n",
      " 0.01304575 0.00919141 0.00790025 0.00732706 0.00976702 0.00940362\n",
      " 0.00447668 0.00768889 0.01125764 0.01024842 0.00861891 0.00547017\n",
      " 0.01151105 0.00824133 0.00685601 0.00403159 0.00974841 0.01297721\n",
      " 0.0067143  0.00827326 0.01108171 0.0078792 ]\n"
     ]
    }
   ],
   "source": [
    "a = sess.run(o_fc, {xv:np.random.randn(10,dims[0])})\n",
    "print(a.shape)\n",
    "print(np.std(a,axis=0))"
   ]
  },
  {
   "cell_type": "code",
   "execution_count": null,
   "metadata": {},
   "outputs": [],
   "source": []
  }
 ],
 "metadata": {
  "kernelspec": {
   "display_name": "Python 3",
   "language": "python",
   "name": "python3"
  },
  "language_info": {
   "codemirror_mode": {
    "name": "ipython",
    "version": 3
   },
   "file_extension": ".py",
   "mimetype": "text/x-python",
   "name": "python",
   "nbconvert_exporter": "python",
   "pygments_lexer": "ipython3",
   "version": "3.6.5"
  }
 },
 "nbformat": 4,
 "nbformat_minor": 2
}
